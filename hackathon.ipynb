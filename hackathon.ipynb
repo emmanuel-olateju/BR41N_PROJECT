{
 "cells": [
  {
   "cell_type": "markdown",
   "metadata": {},
   "source": [
    "#### imports"
   ]
  },
  {
   "cell_type": "code",
   "execution_count": 1,
   "metadata": {},
   "outputs": [
    {
     "name": "stderr",
     "output_type": "stream",
     "text": [
      "d:\\miniconda3\\lib\\site-packages\\scipy\\__init__.py:146: UserWarning: A NumPy version >=1.16.5 and <1.23.0 is required for this version of SciPy (detected version 1.23.3\n",
      "  warnings.warn(f\"A NumPy version >={np_minversion} and <{np_maxversion}\"\n"
     ]
    }
   ],
   "source": [
    "import numpy as np\n",
    "import pandas as pd\n",
    "import scipy.io\n",
    "import requests\n",
    "import os\n",
    "import pickle\n",
    "import copy\n",
    "\n",
    "\n",
    "import mne\n",
    "import pyriemann.spatialfilters as sfilters\n",
    "# from CSP import covarianceMatrix\n",
    "from sklearn.decomposition import FastICA\n",
    "\n",
    "from sklearn.svm import NuSVC,SVC\n",
    "from sklearn.tree import DecisionTreeClassifier\n",
    "from sklearn.ensemble import RandomForestClassifier\n",
    "from sklearn.decomposition import FastICA\n",
    "\n",
    "from sklearn.model_selection import GridSearchCV,cross_val_predict, StratifiedShuffleSplit\n",
    "import optuna\n",
    "\n",
    "from sklearn.metrics import mean_squared_error,accuracy_score,f1_score,roc_auc_score"
   ]
  },
  {
   "cell_type": "code",
   "execution_count": 2,
   "metadata": {},
   "outputs": [],
   "source": [
    "import matplotlib.pyplot as plt"
   ]
  },
  {
   "cell_type": "markdown",
   "metadata": {},
   "source": [
    "#### important variables"
   ]
  },
  {
   "cell_type": "code",
   "execution_count": 3,
   "metadata": {},
   "outputs": [],
   "source": [
    "electrodes=['FC3','FCz','FC4','C5','C3','C1','Cz','C2','C4','C6','CP3','CP1','CPz','CP2','CP4','Pz']\n",
    "fs=256\n",
    "dt=8\n",
    "dataset=dict().fromkeys(['P1','P2','P3'])"
   ]
  },
  {
   "cell_type": "code",
   "execution_count": 4,
   "metadata": {},
   "outputs": [],
   "source": [
    "# dec_tree_params = {\n",
    "#     'criterion':['gini', 'entropy', 'log_loss'],\n",
    "#     # 'splitter':['best','random'],\n",
    "#     'max_depth':list(range(1,17)),\n",
    "#     # 'min_impurity_decrease':np.arange(0,0.6,0.01).tolist()\n",
    "# }\n",
    "# NuSVC_params={\n",
    "#     'nu':np.arange(0,1,0.05).tolist(),\n",
    "#     'kernel':['linear','poly','rbf'],\n",
    "#     'gamma':['scale','auto']\n",
    "# }\n",
    "# SVC_params={\n",
    "#     'C':np.arange(0,1,0.05).tolist(),\n",
    "#     'kernel':['linear','poly','rbf'],\n",
    "#     'gamma':['scale','auto']\n",
    "# }\n",
    "# rand_for_params = {\n",
    "#     'criterion':['gini', 'entropy', 'log_loss'],\n",
    "#     'max_depth':list(range(1,17)),\n",
    "#     # 'min_impurity_decrease':np.arange(0,0.6,0.01).tolist()\n",
    "# }"
   ]
  },
  {
   "cell_type": "code",
   "execution_count": 5,
   "metadata": {},
   "outputs": [],
   "source": [
    "def dec_tree_params(trial):\n",
    "    _params={\n",
    "        'max_depth':trial.suggest_int(**{'name':'max_depth','low':2,'high':16}),\n",
    "        'min_impurity_decrease':trial.suggest_int(**{'name':'min_impurity_decrease','low':0,'high':0.1}),\n",
    "        'criterion':trial.suggest_categorical('criterion',['gini', 'entropy', 'log_loss']),\n",
    "        'splitter':trial.suggest_categorical('splitter',['best','random'])\n",
    "    }\n",
    "    return _params\n",
    "def NuSVC_params(trial):\n",
    "    _params={\n",
    "        # 'nu':trial.suggest_int(**{'name':'nu','low':0.1,'high':0.9}),\n",
    "        'kernel':trial.suggest_categorical('kernel',['linear','poly','rbf']),\n",
    "        'gamma':trial.suggest_categorical('gamma',['scale','auto'])\n",
    "    }\n",
    "    return _params\n",
    "def SVC_params(trial):\n",
    "    _params={\n",
    "        # 'C':trial.suggest_int(**{'name':'nu','low':0.1,'high':1}),\n",
    "        'kernel':trial.suggest_categorical('kernel',['linear','poly','rbf']),\n",
    "        'gamma':trial.suggest_categorical('gamma',['scale','auto'])\n",
    "    }\n",
    "    return _params\n",
    "\n",
    "def rand_for_params(trial):\n",
    "    _params={\n",
    "        'max_depth':trial.suggest_int(**{'name':'max_depth','low':2,'high':17}),\n",
    "        'min_impurity_decrease':trial.suggest_int(**{'name':'min_impurity_decrease','low':0,'high':0.1}),\n",
    "        'criterion':trial.suggest_categorical('criterion',['gini', 'entropy', 'log_loss']),\n",
    "    }\n",
    "    return _params"
   ]
  },
  {
   "cell_type": "markdown",
   "metadata": {},
   "source": [
    "#### functions"
   ]
  },
  {
   "cell_type": "code",
   "execution_count": 168,
   "metadata": {},
   "outputs": [],
   "source": [
    "def trigger_stamps(trig):\n",
    "    trig_stamps=list()\n",
    "    for i in range(trig.shape[0]):\n",
    "        if (i==0) or (trig[i] != trig[i-1]):\n",
    "            trig_stamps.append(i)\n",
    "    return np.array(trig_stamps).reshape(len(trig_stamps),1)\n",
    "\n",
    "def partition_trials(matData):\n",
    "    global dt,fs,electrodes\n",
    "\n",
    "    y=matData['trig']\n",
    "    stamps=trigger_stamps(matData['trig'])\n",
    "\n",
    "    stamps=stamps[y[stamps[:,0]]!=0]\n",
    "    y=y[stamps]\n",
    "    y[y==-1]=0\n",
    "\n",
    "    X=np.empty((0,len(electrodes),fs*dt))\n",
    "\n",
    "    for t in stamps:\n",
    "        new=matData['y'][t:t+(dt*fs),:].T.reshape(1,len(electrodes),dt*fs)\n",
    "        X=np.vstack((X,new))\n",
    "    return {'X':X,'y':y}\n",
    "\n",
    "def trials_covariance(X,method=np.cov):\n",
    "    cov_matx=np.empty((X.shape[0],X.shape[1],X.shape[1]))\n",
    "    for i,x in enumerate(X):\n",
    "        cov_matx[i,:,:]=method(x)\n",
    "    return cov_matx\n",
    "\n",
    "def trials_component_analysis(X,method_class):\n",
    "    matx=np.empty((X.shape[0],method_class.n_comp,X.shape[2]))\n",
    "    for i,trial in enumerate(X):\n",
    "        matx[i,:,:]=method_class._ca.fit_transform(X[i,:,:].T).T\n",
    "    print(matx.shape)\n",
    "    return matx\n",
    "\n",
    "def trials_stft(x,wsize,tstep,verbose=False):\n",
    "    X=copy.deepcopy(x)\n",
    "    for c,i in enumerate(X):\n",
    "        if c==0:\n",
    "            res=np.transpose(mne.time_frequency.stft(i,wsize,verbose=False),(2,0,1))\n",
    "            res=res.reshape(1,res.shape[0],res.shape[1],res.shape[2])\n",
    "        else:\n",
    "            nxt=np.transpose(mne.time_frequency.stft(i,wsize,verbose=False),(2,0,1))\n",
    "            nxt=nxt.reshape(1,nxt.shape[0],nxt.shape[1],nxt.shape[2])\n",
    "            res=np.vstack((\n",
    "                res,\n",
    "               nxt\n",
    "            ))\n",
    "    return res\n",
    "\n",
    "class filter:\n",
    "    def __init__(self,lfreq,hfreq,fs):\n",
    "        self.filter_=mne.decoding.TemporalFilter(lfreq,hfreq,2*fs)\n",
    "\n",
    "    def fit(self):\n",
    "        return self.filter_\n",
    "\n",
    "    def fit_transform(self,test):\n",
    "        self.fit()\n",
    "        return self.transform(test)\n",
    "\n",
    "    def transform(self,test):\n",
    "        return self.filter_.transform(copy.deepcopy(test['X']))\n",
    "\n",
    "class flatten:\n",
    "    def __init__(self):\n",
    "        pass\n",
    "\n",
    "    def fit(self):\n",
    "        return self\n",
    "\n",
    "    def fit_transform(self,test):\n",
    "        self.fit()\n",
    "        return self.transform(test)\n",
    "\n",
    "    def transform(self,data):\n",
    "        data=copy.deepcopy(data)\n",
    "        if data['X'].ndim==3:\n",
    "            return data['X'].reshape(data['X'].shape[0],data['X'].shape[-1]*data['X'].shape[-2])\n",
    "        if data['X'].ndim==2:\n",
    "            return data['X'].reshape(data['X'].shape[0],data['X'].shape[-1])\n",
    "\n",
    "class stft:\n",
    "    def __init__(self,wsize,verbose=None):\n",
    "        self.stft=mne.time_frequency.stft\n",
    "        self.wsize=wsize\n",
    "        self.tstep=int(self.wsize/2)\n",
    "        self.fit_transform=self.transform\n",
    "\n",
    "    def fit(self):return self\n",
    "\n",
    "    def fit_transform(self,x):\n",
    "        self.fit()\n",
    "        self.transform(x)\n",
    "\n",
    "    def transform(self,x):\n",
    "        return trials_stft(x,self.wsize,self.tstep,verbose=False)\n",
    "\n",
    "\n",
    "class ica:\n",
    "    def __init__(self,n_comp):\n",
    "        self._ca=FastICA(n_components=n_comp)\n",
    "        self.n_comp=n_comp\n",
    "\n",
    "    def fit(self,train):\n",
    "        # trials_component_analysis(train['X'],self)\n",
    "        return self._ca\n",
    "\n",
    "    def fit_transform(self,train):\n",
    "        return trials_component_analysis(train['X'],self)\n",
    "\n",
    "    def transform(self,test):\n",
    "        return trials_component_analysis(test['X'],self)\n",
    "\n",
    "class csp:\n",
    "    def __init__(self,n_filter,cov_method=np.cov):\n",
    "        self._csp=sfilters.CSP(nfilter=n_filter)\n",
    "        self.cov_method=cov_method\n",
    "    \n",
    "    def fit(self,train):\n",
    "        print(train['y'].shape,train['X'].shape,trials_covariance(train['X'],self.cov_method).shape)\n",
    "        self._csp.fit(trials_covariance(train['X'],self.cov_method),train['y'])\n",
    "        return self._csp\n",
    "\n",
    "    def fit_transform(self,train):\n",
    "        self.fit(train)\n",
    "        return self.transform(train)\n",
    "    \n",
    "    def transform(self,test):\n",
    "        c=self._csp.transform(trials_covariance(test['X'],self.cov_method))\n",
    "        if c.shape[1]==2:\n",
    "            return c[:,0:2]\n",
    "        elif c.shape[1]==3:\n",
    "            return c[:,0:3]\n",
    "        else:\n",
    "            return np.hstack((c[:,0:2],c[:,-2:]))\n",
    "\n",
    "class classifier:\n",
    "    def __init__(self,method,grid_params):\n",
    "        self.grid=copy.deepcopy(method)\n",
    "        self.clf=method\n",
    "        self.method=copy.deepcopy(method)\n",
    "        self._params=grid_params\n",
    "        self._best_params=0\n",
    "    \n",
    "    def fit(self,train,test=None):\n",
    "        # grid=GridSearchCV(self.grid,self._params,cv=4,scoring='f1',verbose=0,n_jobs=-1)\n",
    "        # grid.fit(train['X'],train['y'])\n",
    "        # self._best_params=grid.best_params_\n",
    "\n",
    "        def objective(trial):\n",
    "            clf=self.grid(**self._params(trial))\n",
    "            clf.fit(train['X'],train['y'])\n",
    "            if test==None:\n",
    "                return clf.score(train['X'],train['y'])\n",
    "            else:\n",
    "                return clf.score(test['X'],test['y'])\n",
    "        study=optuna.create_study(direction='maximize')\n",
    "        study.optimize(objective,n_trials=10)\n",
    "        trial=study.best_trial\n",
    "        self._best_params=trial.params\n",
    "\n",
    "        self.method=copy.deepcopy(self.clf)(**self._best_params)\n",
    "        self.method.fit(train['X'],train['y'])\n",
    "        return self.method\n",
    "\n",
    "    def fit_transform(self,train):\n",
    "        self.fit(train)\n",
    "        return self.transform(train)\n",
    "    \n",
    "    def transform(self,test):\n",
    "        return self.method.predict(test['X'])\n",
    "\n",
    "    def score(self,test,method):\n",
    "        pred=self.transform(test)\n",
    "        return method(test['y'],pred)\n",
    "\n",
    "class pipeline:\n",
    "    def __init__(self,transformrers):\n",
    "        self.transformers=transformrers\n",
    "    \n",
    "    def fit(self,train,test=None):\n",
    "        r=copy.deepcopy(train)\n",
    "        for transformer in self.transformers[0:-1]:\n",
    "            r={'X':transformer.fit_transform(r),'y':r['y']}\n",
    "        self.transformers[-1].fit(r)\n",
    "\n",
    "        return self\n",
    "\n",
    "    def fit_transform(self,train):\n",
    "        self.fit(train)\n",
    "        return self.transform(train)\n",
    "\n",
    "    def transform(self,data):\n",
    "        r=copy.deepcopy(data)\n",
    "        for transformer in self.transformers[0:-1]:\n",
    "            r={'X':transformer.transform(r),'y':r['y']}\n",
    "        return self.transformers[-1].transform(r)\n",
    "\n",
    "    def score(self,test,method):\n",
    "        r=copy.deepcopy(test)\n",
    "        for transformer in self.transformers[0:-1]:\n",
    "            r={'X':transformer.transform(r),'y':r['y']}\n",
    "        return self.transformers[-1].score(r,method)\n",
    "\n",
    "def train_features_models(_pipeline):\n",
    "    df=dict().fromkeys(['P1','P2','P3'])\n",
    "    for p in df.keys():\n",
    "        df[p]=dict().fromkeys(['pre','post'])\n",
    "        for s in dataset[p].keys():\n",
    "            df[p][s]=_pipeline.fit(dataset[p][s]['train'])\n",
    "    return df\n",
    "\n",
    "def get_test_features(models):\n",
    "    df=dict().fromkeys(['P1','P2','P3'])\n",
    "    for p in df.keys():\n",
    "        df[p]=dict().fromkeys(['pre','post'])\n",
    "        for s in['pre','post']:\n",
    "            if isinstance(models,dict):\n",
    "                df[p][s]=models[p][s].transform(dataset[p][s]['test'])\n",
    "            else:\n",
    "                df[p][s]=models.transform(dataset[p][s]['test'])\n",
    "    return df\n",
    "\n",
    "def csp_features_plot(features,x,y):\n",
    "    fig,ax=plt.subplots(nrows=3,ncols=2,figsize=(20,10))\n",
    "\n",
    "    for r,p in enumerate(features.keys()):\n",
    "        for c,s in enumerate(features[p].keys()):\n",
    "            ax[r,c].scatter(\n",
    "                features[p][s][(dataset[p][s]['test']['y']==0).reshape(80),x],\n",
    "                features[p][s][(dataset[p][s]['test']['y']==0).reshape(80),y]\n",
    "                )\n",
    "            ax[r,c].scatter(\n",
    "                features[p][s][(dataset[p][s]['test']['y']==1).reshape(80),x],\n",
    "                features[p][s][(dataset[p][s]['test']['y']==1).reshape(80),y]\n",
    "                )\n",
    "\n",
    "def results(df,mthd):\n",
    "    for p in dataset.keys():\n",
    "        for s in dataset[p].keys():\n",
    "            clf=copy.deepcopy(mthd)\n",
    "            X=np.vstack((\n",
    "                dataset[p][s]['train']['X'],\n",
    "                dataset[p][s]['test']['X']\n",
    "            ))\n",
    "            y=np.vstack((\n",
    "                dataset[p][s]['train']['y'],\n",
    "                dataset[p][s]['test']['y']\n",
    "            ))\n",
    "            splitter=StratifiedShuffleSplit(n_splits=1, test_size=0.4,random_state=1)\n",
    "            tris=[]\n",
    "            testis=[]\n",
    "            for train_index,test_index in splitter.split(X,y):\n",
    "                tris.append(train_index)\n",
    "                testis.append(test_index)\n",
    "            train={'X':X[tris,:,:],'y':y[tris]}\n",
    "            train['X']=train['X'].reshape(\n",
    "                train['X'].shape[1],\n",
    "                train['X'].shape[2],\n",
    "                train['X'].shape[3],\n",
    "            )\n",
    "            train['y']=train['y'].reshape(train['y'].shape[1])\n",
    "            test={'X':X[testis,:,:],'y':y[testis]}\n",
    "            test['X']=test['X'].reshape(\n",
    "                test['X'].shape[1],\n",
    "                test['X'].shape[2],\n",
    "                test['X'].shape[3],\n",
    "            )\n",
    "            test['y']=test['y'].reshape(test['y'].shape[1])\n",
    "            # print([train['X'].shape,train['y'].shape])\n",
    "            clf.fit(train)\n",
    "\n",
    "            # clf.fit(dataset[p][s]['train'],test=dataset[p][s]['test'])\n",
    "            df.loc[p][s]=clf.score(dataset[p][s]['test'],accuracy_score)\n",
    "\n",
    "            # df.loc[p][s]=clf.score(test,accuracy_score)\n",
    "\n",
    "def clf_result(df,mthd,models):\n",
    "    for p in models.keys():\n",
    "        for s in models[p].keys():\n",
    "            mthd.fit(\n",
    "                {\n",
    "                    'X':models[p][s].transform(dataset[p][s]['train']),\n",
    "                    'y':dataset[p][s]['train']['y']\n",
    "                }\n",
    "            )\n",
    "            df.loc[p][s]=mthd.score({\n",
    "                'X':models[p][s].transform(dataset[p][s]['test']),\n",
    "                'y':dataset[p][s]['test']['y']\n",
    "            },accuracy_score)\n",
    "    return df\n",
    "\n",
    "# def nn_result(df,mthd,models):\n",
    "#     for p in models.keys():\n",
    "#         for s in models[p].keys():\n",
    "#             mthd.fit(\n",
    "#                 {\n",
    "#                     'X':models.transform(dataset[p][s]['train']),\n",
    "#                     'y':dataset[p][s]['train']['y']\n",
    "#                 }\n",
    "#             )\n",
    "#             df.loc[p][s]=mthd.score({\n",
    "#                 'X':models.transform(dataset[p][s]['test']),\n",
    "#                 'y':dataset[p][s]['test']['y']\n",
    "#             },accuracy_score)\n",
    "#     return df"
   ]
  },
  {
   "cell_type": "markdown",
   "metadata": {},
   "source": [
    "#### extract data of interest"
   ]
  },
  {
   "cell_type": "code",
   "execution_count": 8,
   "metadata": {},
   "outputs": [],
   "source": [
    "for p in dataset.keys():\n",
    "    dataset[p]={\n",
    "        'pre':{\n",
    "            'train':partition_trials(scipy.io.loadmat('stroke/'+p+'_pre_training.mat')),\n",
    "            'test':partition_trials(scipy.io.loadmat('stroke/'+p+'_pre_test.mat'))\n",
    "        },\n",
    "        'post':{\n",
    "            'train':partition_trials(scipy.io.loadmat('stroke/'+p+'_post_training.mat')),\n",
    "            'test':partition_trials(scipy.io.loadmat('stroke/'+p+'_post_test.mat'))\n",
    "        },\n",
    "    }"
   ]
  },
  {
   "cell_type": "markdown",
   "metadata": {},
   "source": [
    "# CSP"
   ]
  },
  {
   "cell_type": "markdown",
   "metadata": {},
   "source": [
    "#### model"
   ]
  },
  {
   "cell_type": "code",
   "execution_count": 74,
   "metadata": {},
   "outputs": [
    {
     "name": "stdout",
     "output_type": "stream",
     "text": [
      "Setting up low-pass filter at 30 Hz\n",
      "\n",
      "FIR filter parameters\n",
      "---------------------\n",
      "Designing a one-pass, zero-phase, non-causal lowpass filter:\n",
      "- Windowed time-domain design (firwin) method\n",
      "- Hamming window with 0.0194 passband ripple and 53 dB stopband attenuation\n",
      "- Upper passband edge: 30.00 Hz\n",
      "- Upper transition bandwidth: 7.50 Hz (-6 dB cutoff frequency: 33.75 Hz)\n",
      "- Filter length: 227 samples (0.443 sec)\n",
      "\n"
     ]
    },
    {
     "name": "stderr",
     "output_type": "stream",
     "text": [
      "[Parallel(n_jobs=1)]: Using backend SequentialBackend with 1 concurrent workers.\n",
      "[Parallel(n_jobs=1)]: Done   1 out of   1 | elapsed:    0.0s remaining:    0.0s\n",
      "[Parallel(n_jobs=1)]: Done   2 out of   2 | elapsed:    0.0s remaining:    0.0s\n",
      "[Parallel(n_jobs=1)]: Done   3 out of   3 | elapsed:    0.0s remaining:    0.0s\n",
      "[Parallel(n_jobs=1)]: Done   4 out of   4 | elapsed:    0.0s remaining:    0.0s\n",
      "[Parallel(n_jobs=1)]: Done 1280 out of 1280 | elapsed:    1.1s finished\n"
     ]
    },
    {
     "name": "stdout",
     "output_type": "stream",
     "text": [
      "Setting up low-pass filter at 30 Hz\n",
      "\n",
      "FIR filter parameters\n",
      "---------------------\n",
      "Designing a one-pass, zero-phase, non-causal lowpass filter:\n",
      "- Windowed time-domain design (firwin) method\n",
      "- Hamming window with 0.0194 passband ripple and 53 dB stopband attenuation\n",
      "- Upper passband edge: 30.00 Hz\n",
      "- Upper transition bandwidth: 7.50 Hz (-6 dB cutoff frequency: 33.75 Hz)\n",
      "- Filter length: 227 samples (0.443 sec)\n",
      "\n"
     ]
    },
    {
     "name": "stderr",
     "output_type": "stream",
     "text": [
      "[Parallel(n_jobs=1)]: Using backend SequentialBackend with 1 concurrent workers.\n",
      "[Parallel(n_jobs=1)]: Done   1 out of   1 | elapsed:    0.0s remaining:    0.0s\n",
      "[Parallel(n_jobs=1)]: Done   2 out of   2 | elapsed:    0.0s remaining:    0.0s\n",
      "[Parallel(n_jobs=1)]: Done   3 out of   3 | elapsed:    0.0s remaining:    0.0s\n",
      "[Parallel(n_jobs=1)]: Done   4 out of   4 | elapsed:    0.0s remaining:    0.0s\n"
     ]
    },
    {
     "name": "stdout",
     "output_type": "stream",
     "text": [
      "Setting up low-pass filter at 30 Hz\n",
      "\n",
      "FIR filter parameters\n",
      "---------------------\n",
      "Designing a one-pass, zero-phase, non-causal lowpass filter:\n",
      "- Windowed time-domain design (firwin) method\n",
      "- Hamming window with 0.0194 passband ripple and 53 dB stopband attenuation\n",
      "- Upper passband edge: 30.00 Hz\n",
      "- Upper transition bandwidth: 7.50 Hz (-6 dB cutoff frequency: 33.75 Hz)\n",
      "- Filter length: 227 samples (0.443 sec)\n",
      "\n"
     ]
    },
    {
     "name": "stderr",
     "output_type": "stream",
     "text": [
      "[Parallel(n_jobs=1)]: Done 1280 out of 1280 | elapsed:    1.1s finished\n",
      "[Parallel(n_jobs=1)]: Using backend SequentialBackend with 1 concurrent workers.\n",
      "[Parallel(n_jobs=1)]: Done   1 out of   1 | elapsed:    0.0s remaining:    0.0s\n",
      "[Parallel(n_jobs=1)]: Done   2 out of   2 | elapsed:    0.0s remaining:    0.0s\n",
      "[Parallel(n_jobs=1)]: Done   3 out of   3 | elapsed:    0.0s remaining:    0.0s\n",
      "[Parallel(n_jobs=1)]: Done   4 out of   4 | elapsed:    0.0s remaining:    0.0s\n"
     ]
    },
    {
     "name": "stdout",
     "output_type": "stream",
     "text": [
      "Setting up low-pass filter at 30 Hz\n",
      "\n",
      "FIR filter parameters\n",
      "---------------------\n",
      "Designing a one-pass, zero-phase, non-causal lowpass filter:\n",
      "- Windowed time-domain design (firwin) method\n",
      "- Hamming window with 0.0194 passband ripple and 53 dB stopband attenuation\n",
      "- Upper passband edge: 30.00 Hz\n",
      "- Upper transition bandwidth: 7.50 Hz (-6 dB cutoff frequency: 33.75 Hz)\n",
      "- Filter length: 227 samples (0.443 sec)\n",
      "\n"
     ]
    },
    {
     "name": "stderr",
     "output_type": "stream",
     "text": [
      "[Parallel(n_jobs=1)]: Done 1280 out of 1280 | elapsed:    1.2s finished\n",
      "[Parallel(n_jobs=1)]: Using backend SequentialBackend with 1 concurrent workers.\n",
      "[Parallel(n_jobs=1)]: Done   1 out of   1 | elapsed:    0.0s remaining:    0.0s\n",
      "[Parallel(n_jobs=1)]: Done   2 out of   2 | elapsed:    0.0s remaining:    0.0s\n",
      "[Parallel(n_jobs=1)]: Done   3 out of   3 | elapsed:    0.0s remaining:    0.0s\n",
      "[Parallel(n_jobs=1)]: Done   4 out of   4 | elapsed:    0.0s remaining:    0.0s\n"
     ]
    },
    {
     "name": "stdout",
     "output_type": "stream",
     "text": [
      "Setting up low-pass filter at 30 Hz\n",
      "\n",
      "FIR filter parameters\n",
      "---------------------\n",
      "Designing a one-pass, zero-phase, non-causal lowpass filter:\n",
      "- Windowed time-domain design (firwin) method\n",
      "- Hamming window with 0.0194 passband ripple and 53 dB stopband attenuation\n",
      "- Upper passband edge: 30.00 Hz\n",
      "- Upper transition bandwidth: 7.50 Hz (-6 dB cutoff frequency: 33.75 Hz)\n",
      "- Filter length: 227 samples (0.443 sec)\n",
      "\n"
     ]
    },
    {
     "name": "stderr",
     "output_type": "stream",
     "text": [
      "[Parallel(n_jobs=1)]: Done 1280 out of 1280 | elapsed:    1.1s finished\n",
      "[Parallel(n_jobs=1)]: Using backend SequentialBackend with 1 concurrent workers.\n",
      "[Parallel(n_jobs=1)]: Done   1 out of   1 | elapsed:    0.0s remaining:    0.0s\n",
      "[Parallel(n_jobs=1)]: Done   2 out of   2 | elapsed:    0.0s remaining:    0.0s\n",
      "[Parallel(n_jobs=1)]: Done   3 out of   3 | elapsed:    0.0s remaining:    0.0s\n",
      "[Parallel(n_jobs=1)]: Done   4 out of   4 | elapsed:    0.0s remaining:    0.0s\n"
     ]
    },
    {
     "name": "stdout",
     "output_type": "stream",
     "text": [
      "Setting up low-pass filter at 30 Hz\n",
      "\n",
      "FIR filter parameters\n",
      "---------------------\n",
      "Designing a one-pass, zero-phase, non-causal lowpass filter:\n",
      "- Windowed time-domain design (firwin) method\n",
      "- Hamming window with 0.0194 passband ripple and 53 dB stopband attenuation\n",
      "- Upper passband edge: 30.00 Hz\n",
      "- Upper transition bandwidth: 7.50 Hz (-6 dB cutoff frequency: 33.75 Hz)\n",
      "- Filter length: 227 samples (0.443 sec)\n",
      "\n"
     ]
    },
    {
     "name": "stderr",
     "output_type": "stream",
     "text": [
      "[Parallel(n_jobs=1)]: Done 1280 out of 1280 | elapsed:    1.1s finished\n",
      "[Parallel(n_jobs=1)]: Using backend SequentialBackend with 1 concurrent workers.\n",
      "[Parallel(n_jobs=1)]: Done   1 out of   1 | elapsed:    0.0s remaining:    0.0s\n",
      "[Parallel(n_jobs=1)]: Done   2 out of   2 | elapsed:    0.0s remaining:    0.0s\n",
      "[Parallel(n_jobs=1)]: Done   3 out of   3 | elapsed:    0.0s remaining:    0.0s\n",
      "[Parallel(n_jobs=1)]: Done   4 out of   4 | elapsed:    0.0s remaining:    0.0s\n"
     ]
    },
    {
     "name": "stdout",
     "output_type": "stream",
     "text": [
      "Setting up low-pass filter at 30 Hz\n",
      "\n",
      "FIR filter parameters\n",
      "---------------------\n",
      "Designing a one-pass, zero-phase, non-causal lowpass filter:\n",
      "- Windowed time-domain design (firwin) method\n",
      "- Hamming window with 0.0194 passband ripple and 53 dB stopband attenuation\n",
      "- Upper passband edge: 30.00 Hz\n",
      "- Upper transition bandwidth: 7.50 Hz (-6 dB cutoff frequency: 33.75 Hz)\n",
      "- Filter length: 227 samples (0.443 sec)\n",
      "\n"
     ]
    },
    {
     "name": "stderr",
     "output_type": "stream",
     "text": [
      "[Parallel(n_jobs=1)]: Done 1280 out of 1280 | elapsed:    1.2s finished\n",
      "[Parallel(n_jobs=1)]: Using backend SequentialBackend with 1 concurrent workers.\n",
      "[Parallel(n_jobs=1)]: Done   1 out of   1 | elapsed:    0.0s remaining:    0.0s\n",
      "[Parallel(n_jobs=1)]: Done   2 out of   2 | elapsed:    0.0s remaining:    0.0s\n",
      "[Parallel(n_jobs=1)]: Done   3 out of   3 | elapsed:    0.0s remaining:    0.0s\n",
      "[Parallel(n_jobs=1)]: Done   4 out of   4 | elapsed:    0.0s remaining:    0.0s\n"
     ]
    },
    {
     "name": "stdout",
     "output_type": "stream",
     "text": [
      "Setting up low-pass filter at 30 Hz\n",
      "\n",
      "FIR filter parameters\n",
      "---------------------\n",
      "Designing a one-pass, zero-phase, non-causal lowpass filter:\n",
      "- Windowed time-domain design (firwin) method\n",
      "- Hamming window with 0.0194 passband ripple and 53 dB stopband attenuation\n",
      "- Upper passband edge: 30.00 Hz\n",
      "- Upper transition bandwidth: 7.50 Hz (-6 dB cutoff frequency: 33.75 Hz)\n",
      "- Filter length: 227 samples (0.443 sec)\n",
      "\n"
     ]
    },
    {
     "name": "stderr",
     "output_type": "stream",
     "text": [
      "[Parallel(n_jobs=1)]: Done 1280 out of 1280 | elapsed:    1.3s finished\n",
      "[Parallel(n_jobs=1)]: Using backend SequentialBackend with 1 concurrent workers.\n",
      "[Parallel(n_jobs=1)]: Done   1 out of   1 | elapsed:    0.0s remaining:    0.0s\n",
      "[Parallel(n_jobs=1)]: Done   2 out of   2 | elapsed:    0.0s remaining:    0.0s\n",
      "[Parallel(n_jobs=1)]: Done   3 out of   3 | elapsed:    0.0s remaining:    0.0s\n",
      "[Parallel(n_jobs=1)]: Done   4 out of   4 | elapsed:    0.0s remaining:    0.0s\n"
     ]
    },
    {
     "name": "stdout",
     "output_type": "stream",
     "text": [
      "Setting up low-pass filter at 30 Hz\n",
      "\n",
      "FIR filter parameters\n",
      "---------------------\n",
      "Designing a one-pass, zero-phase, non-causal lowpass filter:\n",
      "- Windowed time-domain design (firwin) method\n",
      "- Hamming window with 0.0194 passband ripple and 53 dB stopband attenuation\n",
      "- Upper passband edge: 30.00 Hz\n",
      "- Upper transition bandwidth: 7.50 Hz (-6 dB cutoff frequency: 33.75 Hz)\n",
      "- Filter length: 227 samples (0.443 sec)\n",
      "\n"
     ]
    },
    {
     "name": "stderr",
     "output_type": "stream",
     "text": [
      "[Parallel(n_jobs=1)]: Done 1280 out of 1280 | elapsed:    1.2s finished\n",
      "[Parallel(n_jobs=1)]: Using backend SequentialBackend with 1 concurrent workers.\n",
      "[Parallel(n_jobs=1)]: Done   1 out of   1 | elapsed:    0.0s remaining:    0.0s\n",
      "[Parallel(n_jobs=1)]: Done   2 out of   2 | elapsed:    0.0s remaining:    0.0s\n",
      "[Parallel(n_jobs=1)]: Done   3 out of   3 | elapsed:    0.0s remaining:    0.0s\n",
      "[Parallel(n_jobs=1)]: Done   4 out of   4 | elapsed:    0.0s remaining:    0.0s\n"
     ]
    },
    {
     "name": "stdout",
     "output_type": "stream",
     "text": [
      "Setting up low-pass filter at 30 Hz\n",
      "\n",
      "FIR filter parameters\n",
      "---------------------\n",
      "Designing a one-pass, zero-phase, non-causal lowpass filter:\n",
      "- Windowed time-domain design (firwin) method\n",
      "- Hamming window with 0.0194 passband ripple and 53 dB stopband attenuation\n",
      "- Upper passband edge: 30.00 Hz\n",
      "- Upper transition bandwidth: 7.50 Hz (-6 dB cutoff frequency: 33.75 Hz)\n",
      "- Filter length: 227 samples (0.443 sec)\n",
      "\n"
     ]
    },
    {
     "name": "stderr",
     "output_type": "stream",
     "text": [
      "[Parallel(n_jobs=1)]: Done 1280 out of 1280 | elapsed:    1.2s finished\n",
      "[Parallel(n_jobs=1)]: Using backend SequentialBackend with 1 concurrent workers.\n",
      "[Parallel(n_jobs=1)]: Done   1 out of   1 | elapsed:    0.0s remaining:    0.0s\n",
      "[Parallel(n_jobs=1)]: Done   2 out of   2 | elapsed:    0.0s remaining:    0.0s\n",
      "[Parallel(n_jobs=1)]: Done   3 out of   3 | elapsed:    0.0s remaining:    0.0s\n",
      "[Parallel(n_jobs=1)]: Done   4 out of   4 | elapsed:    0.0s remaining:    0.0s\n"
     ]
    },
    {
     "name": "stdout",
     "output_type": "stream",
     "text": [
      "Setting up low-pass filter at 30 Hz\n",
      "\n",
      "FIR filter parameters\n",
      "---------------------\n",
      "Designing a one-pass, zero-phase, non-causal lowpass filter:\n",
      "- Windowed time-domain design (firwin) method\n",
      "- Hamming window with 0.0194 passband ripple and 53 dB stopband attenuation\n",
      "- Upper passband edge: 30.00 Hz\n",
      "- Upper transition bandwidth: 7.50 Hz (-6 dB cutoff frequency: 33.75 Hz)\n",
      "- Filter length: 227 samples (0.443 sec)\n",
      "\n"
     ]
    },
    {
     "name": "stderr",
     "output_type": "stream",
     "text": [
      "[Parallel(n_jobs=1)]: Done 1280 out of 1280 | elapsed:    1.3s finished\n",
      "[Parallel(n_jobs=1)]: Using backend SequentialBackend with 1 concurrent workers.\n",
      "[Parallel(n_jobs=1)]: Done   1 out of   1 | elapsed:    0.0s remaining:    0.0s\n",
      "[Parallel(n_jobs=1)]: Done   2 out of   2 | elapsed:    0.0s remaining:    0.0s\n",
      "[Parallel(n_jobs=1)]: Done   3 out of   3 | elapsed:    0.0s remaining:    0.0s\n",
      "[Parallel(n_jobs=1)]: Done   4 out of   4 | elapsed:    0.0s remaining:    0.0s\n"
     ]
    },
    {
     "name": "stdout",
     "output_type": "stream",
     "text": [
      "Setting up low-pass filter at 30 Hz\n",
      "\n",
      "FIR filter parameters\n",
      "---------------------\n",
      "Designing a one-pass, zero-phase, non-causal lowpass filter:\n",
      "- Windowed time-domain design (firwin) method\n",
      "- Hamming window with 0.0194 passband ripple and 53 dB stopband attenuation\n",
      "- Upper passband edge: 30.00 Hz\n"
     ]
    },
    {
     "name": "stderr",
     "output_type": "stream",
     "text": [
      "[Parallel(n_jobs=1)]: Done 1280 out of 1280 | elapsed:    1.1s finished\n"
     ]
    },
    {
     "name": "stdout",
     "output_type": "stream",
     "text": [
      "- Upper transition bandwidth: 7.50 Hz (-6 dB cutoff frequency: 33.75 Hz)\n",
      "- Filter length: 227 samples (0.443 sec)\n",
      "\n"
     ]
    },
    {
     "name": "stderr",
     "output_type": "stream",
     "text": [
      "[Parallel(n_jobs=1)]: Using backend SequentialBackend with 1 concurrent workers.\n",
      "[Parallel(n_jobs=1)]: Done   1 out of   1 | elapsed:    0.0s remaining:    0.0s\n",
      "[Parallel(n_jobs=1)]: Done   2 out of   2 | elapsed:    0.0s remaining:    0.0s\n",
      "[Parallel(n_jobs=1)]: Done   3 out of   3 | elapsed:    0.0s remaining:    0.0s\n",
      "[Parallel(n_jobs=1)]: Done   4 out of   4 | elapsed:    0.0s remaining:    0.0s\n",
      "[Parallel(n_jobs=1)]: Done 1280 out of 1280 | elapsed:    1.2s finished\n"
     ]
    }
   ],
   "source": [
    "_csp_pipeline=pipeline([\n",
    "    filter(0,30,256),\n",
    "    csp(n_filter=16)\n",
    "])\n",
    "\n",
    "_csp_models=train_features_models(_csp_pipeline)\n",
    "_csp_features=get_test_features(_csp_models)"
   ]
  },
  {
   "cell_type": "markdown",
   "metadata": {},
   "source": [
    "#### plot"
   ]
  },
  {
   "cell_type": "code",
   "execution_count": 81,
   "metadata": {},
   "outputs": [
    {
     "data": {
      "image/png": "[encoded data removed]",
      "text/plain": [
       "<Figure size 2000x1000 with 6 Axes>"
      ]
     },
     "metadata": {},
     "output_type": "display_data"
    }
   ],
   "source": [
    "csp_features_plot(_csp_features,2,3)"
   ]
  },
  {
   "cell_type": "markdown",
   "metadata": {},
   "source": [
    "### traditional classifiers"
   ]
  },
  {
   "cell_type": "markdown",
   "metadata": {},
   "source": [
    "#### decision tree"
   ]
  },
  {
   "cell_type": "code",
   "execution_count": 41,
   "metadata": {},
   "outputs": [
    {
     "name": "stderr",
     "output_type": "stream",
     "text": [
      "\u001b[32m[I 2022-10-10 11:58:34,270]\u001b[0m A new study created in memory with name: no-name-c6d248ab-166d-4a7a-b458-128272e8a465\u001b[0m\n"
     ]
    },
    {
     "name": "stdout",
     "output_type": "stream",
     "text": [
      "(96,) (96, 16, 2048) (96, 16, 16)\n"
     ]
    },
    {
     "name": "stderr",
     "output_type": "stream",
     "text": [
      "\u001b[32m[I 2022-10-10 11:58:34,595]\u001b[0m Trial 0 finished with value: 0.9375 and parameters: {'max_depth': 6, 'min_impurity_decrease': 0, 'criterion': 'entropy', 'splitter': 'best'}. Best is trial 0 with value: 0.9375.\u001b[0m\n",
      "\u001b[32m[I 2022-10-10 11:58:34,601]\u001b[0m Trial 1 finished with value: 0.8854166666666666 and parameters: {'max_depth': 6, 'min_impurity_decrease': 0, 'criterion': 'gini', 'splitter': 'best'}. Best is trial 0 with value: 0.9375.\u001b[0m\n",
      "\u001b[32m[I 2022-10-10 11:58:34,606]\u001b[0m Trial 2 finished with value: 1.0 and parameters: {'max_depth': 8, 'min_impurity_decrease': 0, 'criterion': 'entropy', 'splitter': 'best'}. Best is trial 2 with value: 1.0.\u001b[0m\n",
      "\u001b[32m[I 2022-10-10 11:58:34,612]\u001b[0m Trial 3 finished with value: 1.0 and parameters: {'max_depth': 14, 'min_impurity_decrease': 0, 'criterion': 'log_loss', 'splitter': 'best'}. Best is trial 2 with value: 1.0.\u001b[0m\n",
      "\u001b[32m[I 2022-10-10 11:58:34,619]\u001b[0m Trial 4 finished with value: 0.6666666666666666 and parameters: {'max_depth': 2, 'min_impurity_decrease': 0, 'criterion': 'gini', 'splitter': 'random'}. Best is trial 2 with value: 1.0.\u001b[0m\n",
      "\u001b[32m[I 2022-10-10 11:58:34,626]\u001b[0m Trial 5 finished with value: 1.0 and parameters: {'max_depth': 16, 'min_impurity_decrease': 0, 'criterion': 'gini', 'splitter': 'random'}. Best is trial 2 with value: 1.0.\u001b[0m\n",
      "\u001b[32m[I 2022-10-10 11:58:34,633]\u001b[0m Trial 6 finished with value: 0.7083333333333334 and parameters: {'max_depth': 2, 'min_impurity_decrease': 0, 'criterion': 'log_loss', 'splitter': 'best'}. Best is trial 2 with value: 1.0.\u001b[0m\n",
      "\u001b[32m[I 2022-10-10 11:58:34,640]\u001b[0m Trial 7 finished with value: 0.6979166666666666 and parameters: {'max_depth': 4, 'min_impurity_decrease': 0, 'criterion': 'log_loss', 'splitter': 'random'}. Best is trial 2 with value: 1.0.\u001b[0m\n",
      "\u001b[32m[I 2022-10-10 11:58:34,650]\u001b[0m Trial 8 finished with value: 1.0 and parameters: {'max_depth': 14, 'min_impurity_decrease': 0, 'criterion': 'entropy', 'splitter': 'best'}. Best is trial 2 with value: 1.0.\u001b[0m\n",
      "\u001b[32m[I 2022-10-10 11:58:34,658]\u001b[0m Trial 9 finished with value: 1.0 and parameters: {'max_depth': 15, 'min_impurity_decrease': 0, 'criterion': 'log_loss', 'splitter': 'best'}. Best is trial 2 with value: 1.0.\u001b[0m\n",
      "\u001b[32m[I 2022-10-10 11:58:35,118]\u001b[0m A new study created in memory with name: no-name-e13c72b9-5980-4194-8739-7bb9e1f53923\u001b[0m\n"
     ]
    },
    {
     "name": "stdout",
     "output_type": "stream",
     "text": [
      "(96,) (96, 16, 2048) (96, 16, 16)\n"
     ]
    },
    {
     "name": "stderr",
     "output_type": "stream",
     "text": [
      "\u001b[32m[I 2022-10-10 11:58:35,124]\u001b[0m Trial 0 finished with value: 1.0 and parameters: {'max_depth': 13, 'min_impurity_decrease': 0, 'criterion': 'log_loss', 'splitter': 'best'}. Best is trial 0 with value: 1.0.\u001b[0m\n",
      "\u001b[32m[I 2022-10-10 11:58:35,128]\u001b[0m Trial 1 finished with value: 1.0 and parameters: {'max_depth': 2, 'min_impurity_decrease': 0, 'criterion': 'gini', 'splitter': 'best'}. Best is trial 0 with value: 1.0.\u001b[0m\n",
      "\u001b[32m[I 2022-10-10 11:58:35,133]\u001b[0m Trial 2 finished with value: 1.0 and parameters: {'max_depth': 13, 'min_impurity_decrease': 0, 'criterion': 'entropy', 'splitter': 'best'}. Best is trial 0 with value: 1.0.\u001b[0m\n",
      "\u001b[32m[I 2022-10-10 11:58:35,138]\u001b[0m Trial 3 finished with value: 1.0 and parameters: {'max_depth': 11, 'min_impurity_decrease': 0, 'criterion': 'entropy', 'splitter': 'best'}. Best is trial 0 with value: 1.0.\u001b[0m\n",
      "\u001b[32m[I 2022-10-10 11:58:35,143]\u001b[0m Trial 4 finished with value: 1.0 and parameters: {'max_depth': 11, 'min_impurity_decrease': 0, 'criterion': 'log_loss', 'splitter': 'best'}. Best is trial 0 with value: 1.0.\u001b[0m\n",
      "\u001b[32m[I 2022-10-10 11:58:35,149]\u001b[0m Trial 5 finished with value: 1.0 and parameters: {'max_depth': 14, 'min_impurity_decrease': 0, 'criterion': 'gini', 'splitter': 'best'}. Best is trial 0 with value: 1.0.\u001b[0m\n",
      "\u001b[32m[I 2022-10-10 11:58:35,154]\u001b[0m Trial 6 finished with value: 1.0 and parameters: {'max_depth': 4, 'min_impurity_decrease': 0, 'criterion': 'log_loss', 'splitter': 'best'}. Best is trial 0 with value: 1.0.\u001b[0m\n",
      "\u001b[32m[I 2022-10-10 11:58:35,159]\u001b[0m Trial 7 finished with value: 1.0 and parameters: {'max_depth': 13, 'min_impurity_decrease': 0, 'criterion': 'entropy', 'splitter': 'random'}. Best is trial 0 with value: 1.0.\u001b[0m\n",
      "\u001b[32m[I 2022-10-10 11:58:35,164]\u001b[0m Trial 8 finished with value: 0.9791666666666666 and parameters: {'max_depth': 6, 'min_impurity_decrease': 0, 'criterion': 'gini', 'splitter': 'random'}. Best is trial 0 with value: 1.0.\u001b[0m\n",
      "\u001b[32m[I 2022-10-10 11:58:35,169]\u001b[0m Trial 9 finished with value: 0.8854166666666666 and parameters: {'max_depth': 2, 'min_impurity_decrease': 0, 'criterion': 'log_loss', 'splitter': 'random'}. Best is trial 0 with value: 1.0.\u001b[0m\n",
      "\u001b[32m[I 2022-10-10 11:58:35,568]\u001b[0m A new study created in memory with name: no-name-c7b9a6d3-6603-40bc-847f-eac3a6b50d38\u001b[0m\n"
     ]
    },
    {
     "name": "stdout",
     "output_type": "stream",
     "text": [
      "(96,) (96, 16, 2048) (96, 16, 16)\n"
     ]
    },
    {
     "name": "stderr",
     "output_type": "stream",
     "text": [
      "\u001b[32m[I 2022-10-10 11:58:35,600]\u001b[0m Trial 0 finished with value: 0.7395833333333334 and parameters: {'max_depth': 5, 'min_impurity_decrease': 0, 'criterion': 'log_loss', 'splitter': 'random'}. Best is trial 0 with value: 0.7395833333333334.\u001b[0m\n",
      "\u001b[32m[I 2022-10-10 11:58:35,609]\u001b[0m Trial 1 finished with value: 0.6041666666666666 and parameters: {'max_depth': 4, 'min_impurity_decrease': 0, 'criterion': 'log_loss', 'splitter': 'random'}. Best is trial 0 with value: 0.7395833333333334.\u001b[0m\n",
      "\u001b[32m[I 2022-10-10 11:58:35,617]\u001b[0m Trial 2 finished with value: 0.7708333333333334 and parameters: {'max_depth': 4, 'min_impurity_decrease': 0, 'criterion': 'log_loss', 'splitter': 'best'}. Best is trial 2 with value: 0.7708333333333334.\u001b[0m\n",
      "\u001b[32m[I 2022-10-10 11:58:35,627]\u001b[0m Trial 3 finished with value: 1.0 and parameters: {'max_depth': 16, 'min_impurity_decrease': 0, 'criterion': 'log_loss', 'splitter': 'random'}. Best is trial 3 with value: 1.0.\u001b[0m\n",
      "\u001b[32m[I 2022-10-10 11:58:35,634]\u001b[0m Trial 4 finished with value: 0.71875 and parameters: {'max_depth': 2, 'min_impurity_decrease': 0, 'criterion': 'log_loss', 'splitter': 'best'}. Best is trial 3 with value: 1.0.\u001b[0m\n",
      "\u001b[32m[I 2022-10-10 11:58:35,655]\u001b[0m Trial 5 finished with value: 0.6354166666666666 and parameters: {'max_depth': 4, 'min_impurity_decrease': 0, 'criterion': 'entropy', 'splitter': 'random'}. Best is trial 3 with value: 1.0.\u001b[0m\n",
      "\u001b[32m[I 2022-10-10 11:58:35,664]\u001b[0m Trial 6 finished with value: 1.0 and parameters: {'max_depth': 15, 'min_impurity_decrease': 0, 'criterion': 'gini', 'splitter': 'best'}. Best is trial 3 with value: 1.0.\u001b[0m\n",
      "\u001b[32m[I 2022-10-10 11:58:35,672]\u001b[0m Trial 7 finished with value: 0.8020833333333334 and parameters: {'max_depth': 9, 'min_impurity_decrease': 0, 'criterion': 'log_loss', 'splitter': 'random'}. Best is trial 3 with value: 1.0.\u001b[0m\n",
      "\u001b[32m[I 2022-10-10 11:58:35,680]\u001b[0m Trial 8 finished with value: 0.7916666666666666 and parameters: {'max_depth': 7, 'min_impurity_decrease': 0, 'criterion': 'log_loss', 'splitter': 'random'}. Best is trial 3 with value: 1.0.\u001b[0m\n",
      "\u001b[32m[I 2022-10-10 11:58:35,687]\u001b[0m Trial 9 finished with value: 0.7708333333333334 and parameters: {'max_depth': 4, 'min_impurity_decrease': 0, 'criterion': 'entropy', 'splitter': 'best'}. Best is trial 3 with value: 1.0.\u001b[0m\n",
      "\u001b[32m[I 2022-10-10 11:58:36,092]\u001b[0m A new study created in memory with name: no-name-fc5e36bf-f487-4958-9df9-d0e8a314265c\u001b[0m\n",
      "\u001b[32m[I 2022-10-10 11:58:36,098]\u001b[0m Trial 0 finished with value: 0.75 and parameters: {'max_depth': 3, 'min_impurity_decrease': 0, 'criterion': 'log_loss', 'splitter': 'best'}. Best is trial 0 with value: 0.75.\u001b[0m\n",
      "\u001b[32m[I 2022-10-10 11:58:36,104]\u001b[0m Trial 1 finished with value: 0.9895833333333334 and parameters: {'max_depth': 13, 'min_impurity_decrease': 0, 'criterion': 'gini', 'splitter': 'random'}. Best is trial 1 with value: 0.9895833333333334.\u001b[0m\n",
      "\u001b[32m[I 2022-10-10 11:58:36,109]\u001b[0m Trial 2 finished with value: 0.6458333333333334 and parameters: {'max_depth': 5, 'min_impurity_decrease': 0, 'criterion': 'log_loss', 'splitter': 'random'}. Best is trial 1 with value: 0.9895833333333334.\u001b[0m\n"
     ]
    },
    {
     "name": "stdout",
     "output_type": "stream",
     "text": [
      "(96,) (96, 16, 2048) (96, 16, 16)\n"
     ]
    },
    {
     "name": "stderr",
     "output_type": "stream",
     "text": [
      "\u001b[32m[I 2022-10-10 11:58:36,115]\u001b[0m Trial 3 finished with value: 0.7916666666666666 and parameters: {'max_depth': 5, 'min_impurity_decrease': 0, 'criterion': 'log_loss', 'splitter': 'best'}. Best is trial 1 with value: 0.9895833333333334.\u001b[0m\n",
      "\u001b[32m[I 2022-10-10 11:58:36,122]\u001b[0m Trial 4 finished with value: 0.6145833333333334 and parameters: {'max_depth': 3, 'min_impurity_decrease': 0, 'criterion': 'entropy', 'splitter': 'random'}. Best is trial 1 with value: 0.9895833333333334.\u001b[0m\n",
      "\u001b[32m[I 2022-10-10 11:58:36,130]\u001b[0m Trial 5 finished with value: 1.0 and parameters: {'max_depth': 13, 'min_impurity_decrease': 0, 'criterion': 'entropy', 'splitter': 'best'}. Best is trial 5 with value: 1.0.\u001b[0m\n",
      "\u001b[32m[I 2022-10-10 11:58:36,139]\u001b[0m Trial 6 finished with value: 0.875 and parameters: {'max_depth': 9, 'min_impurity_decrease': 0, 'criterion': 'entropy', 'splitter': 'random'}. Best is trial 5 with value: 1.0.\u001b[0m\n",
      "\u001b[32m[I 2022-10-10 11:58:36,147]\u001b[0m Trial 7 finished with value: 0.6666666666666666 and parameters: {'max_depth': 2, 'min_impurity_decrease': 0, 'criterion': 'gini', 'splitter': 'random'}. Best is trial 5 with value: 1.0.\u001b[0m\n",
      "\u001b[32m[I 2022-10-10 11:58:36,155]\u001b[0m Trial 8 finished with value: 0.875 and parameters: {'max_depth': 9, 'min_impurity_decrease': 0, 'criterion': 'entropy', 'splitter': 'random'}. Best is trial 5 with value: 1.0.\u001b[0m\n",
      "\u001b[32m[I 2022-10-10 11:58:36,163]\u001b[0m Trial 9 finished with value: 0.9583333333333334 and parameters: {'max_depth': 12, 'min_impurity_decrease': 0, 'criterion': 'entropy', 'splitter': 'random'}. Best is trial 5 with value: 1.0.\u001b[0m\n",
      "\u001b[32m[I 2022-10-10 11:58:36,614]\u001b[0m A new study created in memory with name: no-name-fa9654eb-3d4d-48b8-a8f1-761366d7ef6e\u001b[0m\n",
      "\u001b[32m[I 2022-10-10 11:58:36,620]\u001b[0m Trial 0 finished with value: 1.0 and parameters: {'max_depth': 14, 'min_impurity_decrease': 0, 'criterion': 'entropy', 'splitter': 'best'}. Best is trial 0 with value: 1.0.\u001b[0m\n",
      "\u001b[32m[I 2022-10-10 11:58:36,627]\u001b[0m Trial 1 finished with value: 1.0 and parameters: {'max_depth': 14, 'min_impurity_decrease': 0, 'criterion': 'log_loss', 'splitter': 'best'}. Best is trial 0 with value: 1.0.\u001b[0m\n"
     ]
    },
    {
     "name": "stdout",
     "output_type": "stream",
     "text": [
      "(96,) (96, 16, 2048) (96, 16, 16)\n"
     ]
    },
    {
     "name": "stderr",
     "output_type": "stream",
     "text": [
      "\u001b[32m[I 2022-10-10 11:58:36,633]\u001b[0m Trial 2 finished with value: 0.9583333333333334 and parameters: {'max_depth': 9, 'min_impurity_decrease': 0, 'criterion': 'log_loss', 'splitter': 'random'}. Best is trial 0 with value: 1.0.\u001b[0m\n",
      "\u001b[32m[I 2022-10-10 11:58:36,639]\u001b[0m Trial 3 finished with value: 0.9375 and parameters: {'max_depth': 7, 'min_impurity_decrease': 0, 'criterion': 'log_loss', 'splitter': 'random'}. Best is trial 0 with value: 1.0.\u001b[0m\n",
      "\u001b[32m[I 2022-10-10 11:58:36,646]\u001b[0m Trial 4 finished with value: 0.7291666666666666 and parameters: {'max_depth': 2, 'min_impurity_decrease': 0, 'criterion': 'gini', 'splitter': 'random'}. Best is trial 0 with value: 1.0.\u001b[0m\n",
      "\u001b[32m[I 2022-10-10 11:58:36,652]\u001b[0m Trial 5 finished with value: 1.0 and parameters: {'max_depth': 14, 'min_impurity_decrease': 0, 'criterion': 'log_loss', 'splitter': 'random'}. Best is trial 0 with value: 1.0.\u001b[0m\n",
      "\u001b[32m[I 2022-10-10 11:58:36,660]\u001b[0m Trial 6 finished with value: 1.0 and parameters: {'max_depth': 12, 'min_impurity_decrease': 0, 'criterion': 'entropy', 'splitter': 'random'}. Best is trial 0 with value: 1.0.\u001b[0m\n",
      "\u001b[32m[I 2022-10-10 11:58:36,667]\u001b[0m Trial 7 finished with value: 0.7708333333333334 and parameters: {'max_depth': 4, 'min_impurity_decrease': 0, 'criterion': 'entropy', 'splitter': 'random'}. Best is trial 0 with value: 1.0.\u001b[0m\n",
      "\u001b[32m[I 2022-10-10 11:58:36,674]\u001b[0m Trial 8 finished with value: 0.84375 and parameters: {'max_depth': 5, 'min_impurity_decrease': 0, 'criterion': 'log_loss', 'splitter': 'random'}. Best is trial 0 with value: 1.0.\u001b[0m\n",
      "\u001b[32m[I 2022-10-10 11:58:36,682]\u001b[0m Trial 9 finished with value: 1.0 and parameters: {'max_depth': 10, 'min_impurity_decrease': 0, 'criterion': 'log_loss', 'splitter': 'random'}. Best is trial 0 with value: 1.0.\u001b[0m\n",
      "\u001b[32m[I 2022-10-10 11:58:37,121]\u001b[0m A new study created in memory with name: no-name-d50d561e-52c3-4203-bd19-db2cbbd72ffa\u001b[0m\n"
     ]
    },
    {
     "name": "stdout",
     "output_type": "stream",
     "text": [
      "(96,) (96, 16, 2048) (96, 16, 16)\n"
     ]
    },
    {
     "name": "stderr",
     "output_type": "stream",
     "text": [
      "\u001b[32m[I 2022-10-10 11:58:37,132]\u001b[0m Trial 0 finished with value: 0.8958333333333334 and parameters: {'max_depth': 6, 'min_impurity_decrease': 0, 'criterion': 'log_loss', 'splitter': 'best'}. Best is trial 0 with value: 0.8958333333333334.\u001b[0m\n",
      "\u001b[32m[I 2022-10-10 11:58:37,139]\u001b[0m Trial 1 finished with value: 0.9270833333333334 and parameters: {'max_depth': 7, 'min_impurity_decrease': 0, 'criterion': 'entropy', 'splitter': 'best'}. Best is trial 1 with value: 0.9270833333333334.\u001b[0m\n",
      "\u001b[32m[I 2022-10-10 11:58:37,146]\u001b[0m Trial 2 finished with value: 0.8958333333333334 and parameters: {'max_depth': 6, 'min_impurity_decrease': 0, 'criterion': 'entropy', 'splitter': 'best'}. Best is trial 1 with value: 0.9270833333333334.\u001b[0m\n",
      "\u001b[32m[I 2022-10-10 11:58:37,152]\u001b[0m Trial 3 finished with value: 1.0 and parameters: {'max_depth': 14, 'min_impurity_decrease': 0, 'criterion': 'gini', 'splitter': 'random'}. Best is trial 3 with value: 1.0.\u001b[0m\n",
      "\u001b[32m[I 2022-10-10 11:58:37,159]\u001b[0m Trial 4 finished with value: 1.0 and parameters: {'max_depth': 14, 'min_impurity_decrease': 0, 'criterion': 'entropy', 'splitter': 'random'}. Best is trial 3 with value: 1.0.\u001b[0m\n",
      "\u001b[32m[I 2022-10-10 11:58:37,166]\u001b[0m Trial 5 finished with value: 0.65625 and parameters: {'max_depth': 7, 'min_impurity_decrease': 0, 'criterion': 'log_loss', 'splitter': 'random'}. Best is trial 3 with value: 1.0.\u001b[0m\n",
      "\u001b[32m[I 2022-10-10 11:58:37,175]\u001b[0m Trial 6 finished with value: 0.9166666666666666 and parameters: {'max_depth': 6, 'min_impurity_decrease': 0, 'criterion': 'gini', 'splitter': 'best'}. Best is trial 3 with value: 1.0.\u001b[0m\n",
      "\u001b[32m[I 2022-10-10 11:58:37,183]\u001b[0m Trial 7 finished with value: 1.0 and parameters: {'max_depth': 14, 'min_impurity_decrease': 0, 'criterion': 'gini', 'splitter': 'best'}. Best is trial 3 with value: 1.0.\u001b[0m\n",
      "\u001b[32m[I 2022-10-10 11:58:37,191]\u001b[0m Trial 8 finished with value: 0.8020833333333334 and parameters: {'max_depth': 4, 'min_impurity_decrease': 0, 'criterion': 'gini', 'splitter': 'best'}. Best is trial 3 with value: 1.0.\u001b[0m\n",
      "\u001b[32m[I 2022-10-10 11:58:37,196]\u001b[0m Trial 9 finished with value: 0.5729166666666666 and parameters: {'max_depth': 3, 'min_impurity_decrease': 0, 'criterion': 'entropy', 'splitter': 'random'}. Best is trial 3 with value: 1.0.\u001b[0m\n"
     ]
    },
    {
     "data": {
      "text/html": [
       "<div>\n",
       "<style scoped>\n",
       "    .dataframe tbody tr th:only-of-type {\n",
       "        vertical-align: middle;\n",
       "    }\n",
       "\n",
       "    .dataframe tbody tr th {\n",
       "        vertical-align: top;\n",
       "    }\n",
       "\n",
       "    .dataframe thead th {\n",
       "        text-align: right;\n",
       "    }\n",
       "</style>\n",
       "<table border=\"1\" class=\"dataframe\">\n",
       "  <thead>\n",
       "    <tr style=\"text-align: right;\">\n",
       "      <th></th>\n",
       "      <th>pre</th>\n",
       "      <th>post</th>\n",
       "    </tr>\n",
       "  </thead>\n",
       "  <tbody>\n",
       "    <tr>\n",
       "      <th>P1</th>\n",
       "      <td>0.8375</td>\n",
       "      <td>0.9375</td>\n",
       "    </tr>\n",
       "    <tr>\n",
       "      <th>P2</th>\n",
       "      <td>0.85</td>\n",
       "      <td>0.7875</td>\n",
       "    </tr>\n",
       "    <tr>\n",
       "      <th>P3</th>\n",
       "      <td>0.875</td>\n",
       "      <td>0.8875</td>\n",
       "    </tr>\n",
       "  </tbody>\n",
       "</table>\n",
       "</div>"
      ],
      "text/plain": [
       "       pre    post\n",
       "P1  0.8375  0.9375\n",
       "P2    0.85  0.7875\n",
       "P3   0.875  0.8875"
      ]
     },
     "execution_count": 41,
     "metadata": {},
     "output_type": "execute_result"
    }
   ],
   "source": [
    "decision_tree_results=pd.DataFrame(columns=['pre','post'],index=['P1','P2','P3'])\n",
    "\n",
    "# dec=classifier(DecisionTreeClassifier,dec_tree_params)\n",
    "# clf_result(decision_tree_results,dec,_csp_models)\n",
    "\n",
    "dec=pipeline([\n",
    "    # filter(70,40,256),\n",
    "    # filter(0,30,256),\n",
    "    csp(16),\n",
    "    classifier(\n",
    "        DecisionTreeClassifier,\n",
    "        dec_tree_params\n",
    "        )\n",
    "    ])\n",
    "results(decision_tree_results,dec)\n",
    "\n",
    "decision_tree_results"
   ]
  },
  {
   "cell_type": "markdown",
   "metadata": {},
   "source": [
    "#### SVC"
   ]
  },
  {
   "cell_type": "code",
   "execution_count": 42,
   "metadata": {},
   "outputs": [
    {
     "name": "stderr",
     "output_type": "stream",
     "text": [
      "\u001b[32m[I 2022-10-10 11:58:48,138]\u001b[0m A new study created in memory with name: no-name-68b345ec-6d85-402c-8aa0-ca0fc6cac5d9\u001b[0m\n"
     ]
    },
    {
     "name": "stdout",
     "output_type": "stream",
     "text": [
      "(96,) (96, 16, 2048) (96, 16, 16)\n"
     ]
    },
    {
     "name": "stderr",
     "output_type": "stream",
     "text": [
      "\u001b[32m[I 2022-10-10 11:58:48,421]\u001b[0m Trial 0 finished with value: 0.6875 and parameters: {'kernel': 'rbf', 'gamma': 'scale'}. Best is trial 0 with value: 0.6875.\u001b[0m\n",
      "\u001b[32m[I 2022-10-10 11:58:48,428]\u001b[0m Trial 1 finished with value: 0.6666666666666666 and parameters: {'kernel': 'linear', 'gamma': 'auto'}. Best is trial 0 with value: 0.6875.\u001b[0m\n",
      "\u001b[32m[I 2022-10-10 11:58:48,438]\u001b[0m Trial 2 finished with value: 0.6875 and parameters: {'kernel': 'poly', 'gamma': 'scale'}. Best is trial 0 with value: 0.6875.\u001b[0m\n",
      "\u001b[32m[I 2022-10-10 11:58:48,447]\u001b[0m Trial 3 finished with value: 0.6875 and parameters: {'kernel': 'rbf', 'gamma': 'scale'}. Best is trial 0 with value: 0.6875.\u001b[0m\n",
      "\u001b[32m[I 2022-10-10 11:58:48,459]\u001b[0m Trial 4 finished with value: 0.6875 and parameters: {'kernel': 'poly', 'gamma': 'scale'}. Best is trial 0 with value: 0.6875.\u001b[0m\n",
      "\u001b[32m[I 2022-10-10 11:58:48,471]\u001b[0m Trial 5 finished with value: 0.6666666666666666 and parameters: {'kernel': 'poly', 'gamma': 'auto'}. Best is trial 0 with value: 0.6875.\u001b[0m\n",
      "\u001b[32m[I 2022-10-10 11:58:48,483]\u001b[0m Trial 6 finished with value: 0.6458333333333334 and parameters: {'kernel': 'rbf', 'gamma': 'auto'}. Best is trial 0 with value: 0.6875.\u001b[0m\n",
      "\u001b[32m[I 2022-10-10 11:58:48,494]\u001b[0m Trial 7 finished with value: 0.6666666666666666 and parameters: {'kernel': 'poly', 'gamma': 'auto'}. Best is trial 0 with value: 0.6875.\u001b[0m\n",
      "\u001b[32m[I 2022-10-10 11:58:48,502]\u001b[0m Trial 8 finished with value: 0.6666666666666666 and parameters: {'kernel': 'poly', 'gamma': 'auto'}. Best is trial 0 with value: 0.6875.\u001b[0m\n",
      "\u001b[32m[I 2022-10-10 11:58:48,513]\u001b[0m Trial 9 finished with value: 0.6666666666666666 and parameters: {'kernel': 'linear', 'gamma': 'scale'}. Best is trial 0 with value: 0.6875.\u001b[0m\n",
      "\u001b[32m[I 2022-10-10 11:58:48,987]\u001b[0m A new study created in memory with name: no-name-6736cb0e-b3f0-4edb-b094-bc3169a85cf6\u001b[0m\n",
      "\u001b[32m[I 2022-10-10 11:58:48,992]\u001b[0m Trial 0 finished with value: 1.0 and parameters: {'kernel': 'rbf', 'gamma': 'scale'}. Best is trial 0 with value: 1.0.\u001b[0m\n",
      "\u001b[32m[I 2022-10-10 11:58:48,997]\u001b[0m Trial 1 finished with value: 1.0 and parameters: {'kernel': 'rbf', 'gamma': 'auto'}. Best is trial 0 with value: 1.0.\u001b[0m\n",
      "\u001b[32m[I 2022-10-10 11:58:49,002]\u001b[0m Trial 2 finished with value: 0.96875 and parameters: {'kernel': 'linear', 'gamma': 'scale'}. Best is trial 0 with value: 1.0.\u001b[0m\n",
      "\u001b[32m[I 2022-10-10 11:58:49,007]\u001b[0m Trial 3 finished with value: 0.9895833333333334 and parameters: {'kernel': 'poly', 'gamma': 'scale'}. Best is trial 0 with value: 1.0.\u001b[0m\n",
      "\u001b[32m[I 2022-10-10 11:58:49,012]\u001b[0m Trial 4 finished with value: 0.96875 and parameters: {'kernel': 'linear', 'gamma': 'auto'}. Best is trial 0 with value: 1.0.\u001b[0m\n",
      "\u001b[32m[I 2022-10-10 11:58:49,016]\u001b[0m Trial 5 finished with value: 0.9895833333333334 and parameters: {'kernel': 'poly', 'gamma': 'scale'}. Best is trial 0 with value: 1.0.\u001b[0m\n"
     ]
    },
    {
     "name": "stdout",
     "output_type": "stream",
     "text": [
      "(96,) (96, 16, 2048) (96, 16, 16)\n"
     ]
    },
    {
     "name": "stderr",
     "output_type": "stream",
     "text": [
      "\u001b[32m[I 2022-10-10 11:58:49,022]\u001b[0m Trial 6 finished with value: 0.96875 and parameters: {'kernel': 'linear', 'gamma': 'auto'}. Best is trial 0 with value: 1.0.\u001b[0m\n",
      "\u001b[32m[I 2022-10-10 11:58:49,027]\u001b[0m Trial 7 finished with value: 0.96875 and parameters: {'kernel': 'linear', 'gamma': 'auto'}. Best is trial 0 with value: 1.0.\u001b[0m\n",
      "\u001b[32m[I 2022-10-10 11:58:49,032]\u001b[0m Trial 8 finished with value: 0.96875 and parameters: {'kernel': 'linear', 'gamma': 'auto'}. Best is trial 0 with value: 1.0.\u001b[0m\n",
      "\u001b[32m[I 2022-10-10 11:58:49,037]\u001b[0m Trial 9 finished with value: 1.0 and parameters: {'kernel': 'rbf', 'gamma': 'auto'}. Best is trial 0 with value: 1.0.\u001b[0m\n"
     ]
    },
    {
     "name": "stdout",
     "output_type": "stream",
     "text": [
      "(96,) (96, 16, 2048) (96, 16, 16)\n"
     ]
    },
    {
     "name": "stderr",
     "output_type": "stream",
     "text": [
      "\u001b[32m[I 2022-10-10 11:58:49,548]\u001b[0m A new study created in memory with name: no-name-3cb015fa-f893-4e8e-b111-39c09c9ec27e\u001b[0m\n",
      "\u001b[32m[I 2022-10-10 11:58:49,563]\u001b[0m Trial 0 finished with value: 0.75 and parameters: {'kernel': 'rbf', 'gamma': 'scale'}. Best is trial 0 with value: 0.75.\u001b[0m\n",
      "\u001b[32m[I 2022-10-10 11:58:49,572]\u001b[0m Trial 1 finished with value: 0.75 and parameters: {'kernel': 'rbf', 'gamma': 'scale'}. Best is trial 0 with value: 0.75.\u001b[0m\n",
      "\u001b[32m[I 2022-10-10 11:58:49,579]\u001b[0m Trial 2 finished with value: 0.6666666666666666 and parameters: {'kernel': 'poly', 'gamma': 'auto'}. Best is trial 0 with value: 0.75.\u001b[0m\n",
      "\u001b[32m[I 2022-10-10 11:58:49,584]\u001b[0m Trial 3 finished with value: 0.6875 and parameters: {'kernel': 'linear', 'gamma': 'auto'}. Best is trial 0 with value: 0.75.\u001b[0m\n",
      "\u001b[32m[I 2022-10-10 11:58:49,590]\u001b[0m Trial 4 finished with value: 0.6875 and parameters: {'kernel': 'linear', 'gamma': 'auto'}. Best is trial 0 with value: 0.75.\u001b[0m\n",
      "\u001b[32m[I 2022-10-10 11:58:49,596]\u001b[0m Trial 5 finished with value: 0.6875 and parameters: {'kernel': 'linear', 'gamma': 'scale'}. Best is trial 0 with value: 0.75.\u001b[0m\n",
      "\u001b[32m[I 2022-10-10 11:58:49,602]\u001b[0m Trial 6 finished with value: 0.6875 and parameters: {'kernel': 'linear', 'gamma': 'scale'}. Best is trial 0 with value: 0.75.\u001b[0m\n",
      "\u001b[32m[I 2022-10-10 11:58:49,607]\u001b[0m Trial 7 finished with value: 0.6666666666666666 and parameters: {'kernel': 'poly', 'gamma': 'auto'}. Best is trial 0 with value: 0.75.\u001b[0m\n",
      "\u001b[32m[I 2022-10-10 11:58:49,612]\u001b[0m Trial 8 finished with value: 0.6875 and parameters: {'kernel': 'linear', 'gamma': 'auto'}. Best is trial 0 with value: 0.75.\u001b[0m\n",
      "\u001b[32m[I 2022-10-10 11:58:49,619]\u001b[0m Trial 9 finished with value: 0.6875 and parameters: {'kernel': 'linear', 'gamma': 'auto'}. Best is trial 0 with value: 0.75.\u001b[0m\n",
      "\u001b[32m[I 2022-10-10 11:58:49,997]\u001b[0m A new study created in memory with name: no-name-2a63cbe7-3175-4cbb-88dc-35cf21546738\u001b[0m\n",
      "\u001b[32m[I 2022-10-10 11:58:50,006]\u001b[0m Trial 0 finished with value: 0.7083333333333334 and parameters: {'kernel': 'poly', 'gamma': 'auto'}. Best is trial 0 with value: 0.7083333333333334.\u001b[0m\n"
     ]
    },
    {
     "name": "stdout",
     "output_type": "stream",
     "text": [
      "(96,) (96, 16, 2048) (96, 16, 16)\n"
     ]
    },
    {
     "name": "stderr",
     "output_type": "stream",
     "text": [
      "\u001b[32m[I 2022-10-10 11:58:50,015]\u001b[0m Trial 1 finished with value: 0.6666666666666666 and parameters: {'kernel': 'linear', 'gamma': 'auto'}. Best is trial 0 with value: 0.7083333333333334.\u001b[0m\n",
      "\u001b[32m[I 2022-10-10 11:58:50,024]\u001b[0m Trial 2 finished with value: 0.65625 and parameters: {'kernel': 'rbf', 'gamma': 'auto'}. Best is trial 0 with value: 0.7083333333333334.\u001b[0m\n",
      "\u001b[32m[I 2022-10-10 11:58:50,054]\u001b[0m Trial 3 finished with value: 0.6979166666666666 and parameters: {'kernel': 'poly', 'gamma': 'scale'}. Best is trial 0 with value: 0.7083333333333334.\u001b[0m\n",
      "\u001b[32m[I 2022-10-10 11:58:50,064]\u001b[0m Trial 4 finished with value: 0.6979166666666666 and parameters: {'kernel': 'poly', 'gamma': 'scale'}. Best is trial 0 with value: 0.7083333333333334.\u001b[0m\n",
      "\u001b[32m[I 2022-10-10 11:58:50,075]\u001b[0m Trial 5 finished with value: 0.65625 and parameters: {'kernel': 'rbf', 'gamma': 'auto'}. Best is trial 0 with value: 0.7083333333333334.\u001b[0m\n",
      "\u001b[32m[I 2022-10-10 11:58:50,086]\u001b[0m Trial 6 finished with value: 0.6666666666666666 and parameters: {'kernel': 'rbf', 'gamma': 'scale'}. Best is trial 0 with value: 0.7083333333333334.\u001b[0m\n",
      "\u001b[32m[I 2022-10-10 11:58:50,096]\u001b[0m Trial 7 finished with value: 0.6979166666666666 and parameters: {'kernel': 'poly', 'gamma': 'scale'}. Best is trial 0 with value: 0.7083333333333334.\u001b[0m\n",
      "\u001b[32m[I 2022-10-10 11:58:50,111]\u001b[0m Trial 8 finished with value: 0.6979166666666666 and parameters: {'kernel': 'poly', 'gamma': 'scale'}. Best is trial 0 with value: 0.7083333333333334.\u001b[0m\n",
      "\u001b[32m[I 2022-10-10 11:58:50,121]\u001b[0m Trial 9 finished with value: 0.6666666666666666 and parameters: {'kernel': 'linear', 'gamma': 'scale'}. Best is trial 0 with value: 0.7083333333333334.\u001b[0m\n",
      "\u001b[32m[I 2022-10-10 11:58:50,543]\u001b[0m A new study created in memory with name: no-name-30cd0d2c-be7b-4a61-b8db-1f95f4dc68aa\u001b[0m\n",
      "\u001b[32m[I 2022-10-10 11:58:50,548]\u001b[0m Trial 0 finished with value: 0.7916666666666666 and parameters: {'kernel': 'rbf', 'gamma': 'auto'}. Best is trial 0 with value: 0.7916666666666666.\u001b[0m\n",
      "\u001b[32m[I 2022-10-10 11:58:50,554]\u001b[0m Trial 1 finished with value: 0.8333333333333334 and parameters: {'kernel': 'rbf', 'gamma': 'scale'}. Best is trial 1 with value: 0.8333333333333334.\u001b[0m\n",
      "\u001b[32m[I 2022-10-10 11:58:50,560]\u001b[0m Trial 2 finished with value: 0.7916666666666666 and parameters: {'kernel': 'rbf', 'gamma': 'auto'}. Best is trial 1 with value: 0.8333333333333334.\u001b[0m\n",
      "\u001b[32m[I 2022-10-10 11:58:50,565]\u001b[0m Trial 3 finished with value: 0.7916666666666666 and parameters: {'kernel': 'linear', 'gamma': 'auto'}. Best is trial 1 with value: 0.8333333333333334.\u001b[0m\n",
      "\u001b[32m[I 2022-10-10 11:58:50,573]\u001b[0m Trial 4 finished with value: 0.7916666666666666 and parameters: {'kernel': 'linear', 'gamma': 'auto'}. Best is trial 1 with value: 0.8333333333333334.\u001b[0m\n",
      "\u001b[32m[I 2022-10-10 11:58:50,578]\u001b[0m Trial 5 finished with value: 0.7916666666666666 and parameters: {'kernel': 'linear', 'gamma': 'auto'}. Best is trial 1 with value: 0.8333333333333334.\u001b[0m\n"
     ]
    },
    {
     "name": "stdout",
     "output_type": "stream",
     "text": [
      "(96,) (96, 16, 2048) (96, 16, 16)\n"
     ]
    },
    {
     "name": "stderr",
     "output_type": "stream",
     "text": [
      "\u001b[32m[I 2022-10-10 11:58:50,584]\u001b[0m Trial 6 finished with value: 0.7916666666666666 and parameters: {'kernel': 'linear', 'gamma': 'auto'}. Best is trial 1 with value: 0.8333333333333334.\u001b[0m\n",
      "\u001b[32m[I 2022-10-10 11:58:50,591]\u001b[0m Trial 7 finished with value: 0.78125 and parameters: {'kernel': 'poly', 'gamma': 'auto'}. Best is trial 1 with value: 0.8333333333333334.\u001b[0m\n",
      "\u001b[32m[I 2022-10-10 11:58:50,597]\u001b[0m Trial 8 finished with value: 0.7916666666666666 and parameters: {'kernel': 'linear', 'gamma': 'auto'}. Best is trial 1 with value: 0.8333333333333334.\u001b[0m\n",
      "\u001b[32m[I 2022-10-10 11:58:50,604]\u001b[0m Trial 9 finished with value: 0.7916666666666666 and parameters: {'kernel': 'linear', 'gamma': 'auto'}. Best is trial 1 with value: 0.8333333333333334.\u001b[0m\n",
      "\u001b[32m[I 2022-10-10 11:58:51,072]\u001b[0m A new study created in memory with name: no-name-b81f3619-7888-4283-92b8-beefa130ae9e\u001b[0m\n"
     ]
    },
    {
     "name": "stdout",
     "output_type": "stream",
     "text": [
      "(96,) (96, 16, 2048) (96, 16, 16)\n"
     ]
    },
    {
     "name": "stderr",
     "output_type": "stream",
     "text": [
      "\u001b[32m[I 2022-10-10 11:58:51,080]\u001b[0m Trial 0 finished with value: 0.6145833333333334 and parameters: {'kernel': 'rbf', 'gamma': 'auto'}. Best is trial 0 with value: 0.6145833333333334.\u001b[0m\n",
      "\u001b[32m[I 2022-10-10 11:58:51,090]\u001b[0m Trial 1 finished with value: 0.6145833333333334 and parameters: {'kernel': 'rbf', 'gamma': 'scale'}. Best is trial 0 with value: 0.6145833333333334.\u001b[0m\n",
      "\u001b[32m[I 2022-10-10 11:58:51,095]\u001b[0m Trial 2 finished with value: 0.5833333333333334 and parameters: {'kernel': 'linear', 'gamma': 'auto'}. Best is trial 0 with value: 0.6145833333333334.\u001b[0m\n",
      "\u001b[32m[I 2022-10-10 11:58:51,102]\u001b[0m Trial 3 finished with value: 0.6145833333333334 and parameters: {'kernel': 'poly', 'gamma': 'auto'}. Best is trial 0 with value: 0.6145833333333334.\u001b[0m\n",
      "\u001b[32m[I 2022-10-10 11:58:51,111]\u001b[0m Trial 4 finished with value: 0.6145833333333334 and parameters: {'kernel': 'poly', 'gamma': 'auto'}. Best is trial 0 with value: 0.6145833333333334.\u001b[0m\n",
      "\u001b[32m[I 2022-10-10 11:58:51,120]\u001b[0m Trial 5 finished with value: 0.6145833333333334 and parameters: {'kernel': 'rbf', 'gamma': 'auto'}. Best is trial 0 with value: 0.6145833333333334.\u001b[0m\n",
      "\u001b[32m[I 2022-10-10 11:58:51,128]\u001b[0m Trial 6 finished with value: 0.5833333333333334 and parameters: {'kernel': 'linear', 'gamma': 'auto'}. Best is trial 0 with value: 0.6145833333333334.\u001b[0m\n",
      "\u001b[32m[I 2022-10-10 11:58:51,136]\u001b[0m Trial 7 finished with value: 0.6145833333333334 and parameters: {'kernel': 'rbf', 'gamma': 'scale'}. Best is trial 0 with value: 0.6145833333333334.\u001b[0m\n",
      "\u001b[32m[I 2022-10-10 11:58:51,146]\u001b[0m Trial 8 finished with value: 0.6145833333333334 and parameters: {'kernel': 'rbf', 'gamma': 'scale'}. Best is trial 0 with value: 0.6145833333333334.\u001b[0m\n",
      "\u001b[32m[I 2022-10-10 11:58:51,154]\u001b[0m Trial 9 finished with value: 0.6145833333333334 and parameters: {'kernel': 'rbf', 'gamma': 'scale'}. Best is trial 0 with value: 0.6145833333333334.\u001b[0m\n"
     ]
    },
    {
     "data": {
      "text/html": [
       "<div>\n",
       "<style scoped>\n",
       "    .dataframe tbody tr th:only-of-type {\n",
       "        vertical-align: middle;\n",
       "    }\n",
       "\n",
       "    .dataframe tbody tr th {\n",
       "        vertical-align: top;\n",
       "    }\n",
       "\n",
       "    .dataframe thead th {\n",
       "        text-align: right;\n",
       "    }\n",
       "</style>\n",
       "<table border=\"1\" class=\"dataframe\">\n",
       "  <thead>\n",
       "    <tr style=\"text-align: right;\">\n",
       "      <th></th>\n",
       "      <th>pre</th>\n",
       "      <th>post</th>\n",
       "    </tr>\n",
       "  </thead>\n",
       "  <tbody>\n",
       "    <tr>\n",
       "      <th>P1</th>\n",
       "      <td>0.625</td>\n",
       "      <td>0.9625</td>\n",
       "    </tr>\n",
       "    <tr>\n",
       "      <th>P2</th>\n",
       "      <td>0.675</td>\n",
       "      <td>0.625</td>\n",
       "    </tr>\n",
       "    <tr>\n",
       "      <th>P3</th>\n",
       "      <td>0.825</td>\n",
       "      <td>0.625</td>\n",
       "    </tr>\n",
       "  </tbody>\n",
       "</table>\n",
       "</div>"
      ],
      "text/plain": [
       "      pre    post\n",
       "P1  0.625  0.9625\n",
       "P2  0.675   0.625\n",
       "P3  0.825   0.625"
      ]
     },
     "execution_count": 42,
     "metadata": {},
     "output_type": "execute_result"
    }
   ],
   "source": [
    "SVC_results=pd.DataFrame(columns=['pre','post'],index=['P1','P2','P3'])\n",
    "pSVCp=pipeline([\n",
    "    # filter(70,40,256),\n",
    "    # filter(0,30,256),\n",
    "    csp(16),\n",
    "    classifier(\n",
    "        SVC,\n",
    "        SVC_params\n",
    "        )\n",
    "    ])\n",
    "results(SVC_results,pSVCp)\n",
    "SVC_results"
   ]
  },
  {
   "cell_type": "markdown",
   "metadata": {},
   "source": [
    "#### NuSVC"
   ]
  },
  {
   "cell_type": "code",
   "execution_count": 43,
   "metadata": {},
   "outputs": [
    {
     "name": "stdout",
     "output_type": "stream",
     "text": [
      "Setting up low-pass filter at 30 Hz\n",
      "\n",
      "FIR filter parameters\n",
      "---------------------\n",
      "Designing a one-pass, zero-phase, non-causal lowpass filter:\n",
      "- Windowed time-domain design (firwin) method\n",
      "- Hamming window with 0.0194 passband ripple and 53 dB stopband attenuation\n",
      "- Upper passband edge: 30.00 Hz\n",
      "- Upper transition bandwidth: 7.50 Hz (-6 dB cutoff frequency: 33.75 Hz)\n",
      "- Filter length: 227 samples (0.443 sec)\n",
      "\n"
     ]
    },
    {
     "name": "stderr",
     "output_type": "stream",
     "text": [
      "[Parallel(n_jobs=1)]: Using backend SequentialBackend with 1 concurrent workers.\n",
      "[Parallel(n_jobs=1)]: Done   1 out of   1 | elapsed:    0.0s remaining:    0.0s\n",
      "[Parallel(n_jobs=1)]: Done   2 out of   2 | elapsed:    0.0s remaining:    0.0s\n",
      "[Parallel(n_jobs=1)]: Done   3 out of   3 | elapsed:    0.0s remaining:    0.0s\n",
      "[Parallel(n_jobs=1)]: Done   4 out of   4 | elapsed:    0.0s remaining:    0.0s\n",
      "[Parallel(n_jobs=1)]: Done 1536 out of 1536 | elapsed:    1.2s finished\n",
      "\u001b[32m[I 2022-10-10 11:59:00,219]\u001b[0m A new study created in memory with name: no-name-c359ff93-ca07-4647-8335-ba6d176d32fa\u001b[0m\n"
     ]
    },
    {
     "name": "stdout",
     "output_type": "stream",
     "text": [
      "(96,) (96, 16, 2048) (96, 16, 16)\n"
     ]
    },
    {
     "name": "stderr",
     "output_type": "stream",
     "text": [
      "\u001b[32m[I 2022-10-10 11:59:00,226]\u001b[0m Trial 0 finished with value: 0.84375 and parameters: {'kernel': 'poly', 'gamma': 'auto'}. Best is trial 0 with value: 0.84375.\u001b[0m\n",
      "\u001b[32m[I 2022-10-10 11:59:00,230]\u001b[0m Trial 1 finished with value: 0.84375 and parameters: {'kernel': 'rbf', 'gamma': 'scale'}. Best is trial 0 with value: 0.84375.\u001b[0m\n",
      "\u001b[32m[I 2022-10-10 11:59:00,235]\u001b[0m Trial 2 finished with value: 0.84375 and parameters: {'kernel': 'poly', 'gamma': 'auto'}. Best is trial 0 with value: 0.84375.\u001b[0m\n",
      "\u001b[32m[I 2022-10-10 11:59:00,240]\u001b[0m Trial 3 finished with value: 0.84375 and parameters: {'kernel': 'poly', 'gamma': 'auto'}. Best is trial 0 with value: 0.84375.\u001b[0m\n",
      "\u001b[32m[I 2022-10-10 11:59:00,245]\u001b[0m Trial 4 finished with value: 0.78125 and parameters: {'kernel': 'linear', 'gamma': 'scale'}. Best is trial 0 with value: 0.84375.\u001b[0m\n",
      "\u001b[32m[I 2022-10-10 11:59:00,249]\u001b[0m Trial 5 finished with value: 0.84375 and parameters: {'kernel': 'poly', 'gamma': 'auto'}. Best is trial 0 with value: 0.84375.\u001b[0m\n",
      "\u001b[32m[I 2022-10-10 11:59:00,254]\u001b[0m Trial 6 finished with value: 0.78125 and parameters: {'kernel': 'linear', 'gamma': 'auto'}. Best is trial 0 with value: 0.84375.\u001b[0m\n",
      "\u001b[32m[I 2022-10-10 11:59:00,259]\u001b[0m Trial 7 finished with value: 0.84375 and parameters: {'kernel': 'poly', 'gamma': 'scale'}. Best is trial 0 with value: 0.84375.\u001b[0m\n",
      "\u001b[32m[I 2022-10-10 11:59:00,265]\u001b[0m Trial 8 finished with value: 0.84375 and parameters: {'kernel': 'poly', 'gamma': 'scale'}. Best is trial 0 with value: 0.84375.\u001b[0m\n",
      "\u001b[32m[I 2022-10-10 11:59:00,270]\u001b[0m Trial 9 finished with value: 0.78125 and parameters: {'kernel': 'linear', 'gamma': 'scale'}. Best is trial 0 with value: 0.84375.\u001b[0m\n"
     ]
    },
    {
     "name": "stdout",
     "output_type": "stream",
     "text": [
      "Setting up low-pass filter at 30 Hz\n",
      "\n",
      "FIR filter parameters\n",
      "---------------------\n",
      "Designing a one-pass, zero-phase, non-causal lowpass filter:\n",
      "- Windowed time-domain design (firwin) method\n",
      "- Hamming window with 0.0194 passband ripple and 53 dB stopband attenuation\n",
      "- Upper passband edge: 30.00 Hz\n",
      "- Upper transition bandwidth: 7.50 Hz (-6 dB cutoff frequency: 33.75 Hz)\n",
      "- Filter length: 227 samples (0.443 sec)\n",
      "\n"
     ]
    },
    {
     "name": "stderr",
     "output_type": "stream",
     "text": [
      "[Parallel(n_jobs=1)]: Using backend SequentialBackend with 1 concurrent workers.\n",
      "[Parallel(n_jobs=1)]: Done   1 out of   1 | elapsed:    0.0s remaining:    0.0s\n",
      "[Parallel(n_jobs=1)]: Done   2 out of   2 | elapsed:    0.0s remaining:    0.0s\n",
      "[Parallel(n_jobs=1)]: Done   3 out of   3 | elapsed:    0.0s remaining:    0.0s\n",
      "[Parallel(n_jobs=1)]: Done   4 out of   4 | elapsed:    0.0s remaining:    0.0s\n"
     ]
    },
    {
     "name": "stdout",
     "output_type": "stream",
     "text": [
      "Setting up low-pass filter at 30 Hz\n",
      "\n",
      "FIR filter parameters\n",
      "---------------------\n",
      "Designing a one-pass, zero-phase, non-causal lowpass filter:\n",
      "- Windowed time-domain design (firwin) method\n",
      "- Hamming window with 0.0194 passband ripple and 53 dB stopband attenuation\n",
      "- Upper passband edge: 30.00 Hz\n",
      "- Upper transition bandwidth: 7.50 Hz (-6 dB cutoff frequency: 33.75 Hz)\n",
      "- Filter length: 227 samples (0.443 sec)\n",
      "\n"
     ]
    },
    {
     "name": "stderr",
     "output_type": "stream",
     "text": [
      "[Parallel(n_jobs=1)]: Done 1280 out of 1280 | elapsed:    1.1s finished\n",
      "[Parallel(n_jobs=1)]: Using backend SequentialBackend with 1 concurrent workers.\n",
      "[Parallel(n_jobs=1)]: Done   1 out of   1 | elapsed:    0.0s remaining:    0.0s\n",
      "[Parallel(n_jobs=1)]: Done   2 out of   2 | elapsed:    0.0s remaining:    0.0s\n",
      "[Parallel(n_jobs=1)]: Done   3 out of   3 | elapsed:    0.0s remaining:    0.0s\n",
      "[Parallel(n_jobs=1)]: Done   4 out of   4 | elapsed:    0.0s remaining:    0.0s\n",
      "[Parallel(n_jobs=1)]: Done 1536 out of 1536 | elapsed:    1.2s finished\n",
      "\u001b[32m[I 2022-10-10 11:59:03,263]\u001b[0m A new study created in memory with name: no-name-68110eb0-db31-4714-bf54-e71f20543202\u001b[0m\n",
      "\u001b[32m[I 2022-10-10 11:59:03,272]\u001b[0m Trial 0 finished with value: 0.9895833333333334 and parameters: {'kernel': 'rbf', 'gamma': 'auto'}. Best is trial 0 with value: 0.9895833333333334.\u001b[0m\n",
      "\u001b[32m[I 2022-10-10 11:59:03,279]\u001b[0m Trial 1 finished with value: 0.9895833333333334 and parameters: {'kernel': 'rbf', 'gamma': 'scale'}. Best is trial 0 with value: 0.9895833333333334.\u001b[0m\n",
      "\u001b[32m[I 2022-10-10 11:59:03,286]\u001b[0m Trial 2 finished with value: 0.90625 and parameters: {'kernel': 'poly', 'gamma': 'auto'}. Best is trial 0 with value: 0.9895833333333334.\u001b[0m\n"
     ]
    },
    {
     "name": "stdout",
     "output_type": "stream",
     "text": [
      "(96,) (96, 16, 2048) (96, 16, 16)\n"
     ]
    },
    {
     "name": "stderr",
     "output_type": "stream",
     "text": [
      "\u001b[32m[I 2022-10-10 11:59:03,294]\u001b[0m Trial 3 finished with value: 0.9791666666666666 and parameters: {'kernel': 'linear', 'gamma': 'auto'}. Best is trial 0 with value: 0.9895833333333334.\u001b[0m\n",
      "\u001b[32m[I 2022-10-10 11:59:03,300]\u001b[0m Trial 4 finished with value: 0.90625 and parameters: {'kernel': 'poly', 'gamma': 'auto'}. Best is trial 0 with value: 0.9895833333333334.\u001b[0m\n",
      "\u001b[32m[I 2022-10-10 11:59:03,307]\u001b[0m Trial 5 finished with value: 0.9791666666666666 and parameters: {'kernel': 'linear', 'gamma': 'scale'}. Best is trial 0 with value: 0.9895833333333334.\u001b[0m\n",
      "\u001b[32m[I 2022-10-10 11:59:03,314]\u001b[0m Trial 6 finished with value: 0.90625 and parameters: {'kernel': 'poly', 'gamma': 'scale'}. Best is trial 0 with value: 0.9895833333333334.\u001b[0m\n",
      "\u001b[32m[I 2022-10-10 11:59:03,325]\u001b[0m Trial 7 finished with value: 0.9895833333333334 and parameters: {'kernel': 'rbf', 'gamma': 'auto'}. Best is trial 0 with value: 0.9895833333333334.\u001b[0m\n",
      "\u001b[32m[I 2022-10-10 11:59:03,335]\u001b[0m Trial 8 finished with value: 0.90625 and parameters: {'kernel': 'poly', 'gamma': 'scale'}. Best is trial 0 with value: 0.9895833333333334.\u001b[0m\n",
      "\u001b[32m[I 2022-10-10 11:59:03,342]\u001b[0m Trial 9 finished with value: 0.90625 and parameters: {'kernel': 'poly', 'gamma': 'auto'}. Best is trial 0 with value: 0.9895833333333334.\u001b[0m\n"
     ]
    },
    {
     "name": "stdout",
     "output_type": "stream",
     "text": [
      "Setting up low-pass filter at 30 Hz\n",
      "\n",
      "FIR filter parameters\n",
      "---------------------\n",
      "Designing a one-pass, zero-phase, non-causal lowpass filter:\n",
      "- Windowed time-domain design (firwin) method\n",
      "- Hamming window with 0.0194 passband ripple and 53 dB stopband attenuation\n",
      "- Upper passband edge: 30.00 Hz\n",
      "- Upper transition bandwidth: 7.50 Hz (-6 dB cutoff frequency: 33.75 Hz)\n",
      "- Filter length: 227 samples (0.443 sec)\n",
      "\n"
     ]
    },
    {
     "name": "stderr",
     "output_type": "stream",
     "text": [
      "[Parallel(n_jobs=1)]: Using backend SequentialBackend with 1 concurrent workers.\n",
      "[Parallel(n_jobs=1)]: Done   1 out of   1 | elapsed:    0.0s remaining:    0.0s\n",
      "[Parallel(n_jobs=1)]: Done   2 out of   2 | elapsed:    0.0s remaining:    0.0s\n",
      "[Parallel(n_jobs=1)]: Done   3 out of   3 | elapsed:    0.0s remaining:    0.0s\n",
      "[Parallel(n_jobs=1)]: Done   4 out of   4 | elapsed:    0.0s remaining:    0.0s\n"
     ]
    },
    {
     "name": "stdout",
     "output_type": "stream",
     "text": [
      "Setting up low-pass filter at 30 Hz\n",
      "\n",
      "FIR filter parameters\n",
      "---------------------\n",
      "Designing a one-pass, zero-phase, non-causal lowpass filter:\n",
      "- Windowed time-domain design (firwin) method\n",
      "- Hamming window with 0.0194 passband ripple and 53 dB stopband attenuation\n",
      "- Upper passband edge: 30.00 Hz\n",
      "- Upper transition bandwidth: 7.50 Hz (-6 dB cutoff frequency: 33.75 Hz)\n",
      "- Filter length: 227 samples (0.443 sec)\n",
      "\n"
     ]
    },
    {
     "name": "stderr",
     "output_type": "stream",
     "text": [
      "[Parallel(n_jobs=1)]: Done 1280 out of 1280 | elapsed:    1.0s finished\n",
      "[Parallel(n_jobs=1)]: Using backend SequentialBackend with 1 concurrent workers.\n",
      "[Parallel(n_jobs=1)]: Done   1 out of   1 | elapsed:    0.0s remaining:    0.0s\n",
      "[Parallel(n_jobs=1)]: Done   2 out of   2 | elapsed:    0.0s remaining:    0.0s\n",
      "[Parallel(n_jobs=1)]: Done   3 out of   3 | elapsed:    0.0s remaining:    0.0s\n",
      "[Parallel(n_jobs=1)]: Done   4 out of   4 | elapsed:    0.0s remaining:    0.0s\n",
      "[Parallel(n_jobs=1)]: Done 1536 out of 1536 | elapsed:    1.3s finished\n",
      "\u001b[32m[I 2022-10-10 11:59:06,355]\u001b[0m A new study created in memory with name: no-name-b85410e5-df2b-4018-bae8-93e19e676e4b\u001b[0m\n",
      "\u001b[32m[I 2022-10-10 11:59:06,365]\u001b[0m Trial 0 finished with value: 0.4895833333333333 and parameters: {'kernel': 'linear', 'gamma': 'auto'}. Best is trial 0 with value: 0.4895833333333333.\u001b[0m\n"
     ]
    },
    {
     "name": "stdout",
     "output_type": "stream",
     "text": [
      "(96,) (96, 16, 2048) (96, 16, 16)\n"
     ]
    },
    {
     "name": "stderr",
     "output_type": "stream",
     "text": [
      "\u001b[32m[I 2022-10-10 11:59:06,374]\u001b[0m Trial 1 finished with value: 0.4895833333333333 and parameters: {'kernel': 'linear', 'gamma': 'auto'}. Best is trial 0 with value: 0.4895833333333333.\u001b[0m\n",
      "\u001b[32m[I 2022-10-10 11:59:06,514]\u001b[0m Trial 2 finished with value: 0.8125 and parameters: {'kernel': 'poly', 'gamma': 'scale'}. Best is trial 2 with value: 0.8125.\u001b[0m\n",
      "\u001b[32m[I 2022-10-10 11:59:06,521]\u001b[0m Trial 3 finished with value: 0.4895833333333333 and parameters: {'kernel': 'linear', 'gamma': 'scale'}. Best is trial 2 with value: 0.8125.\u001b[0m\n",
      "\u001b[32m[I 2022-10-10 11:59:06,527]\u001b[0m Trial 4 finished with value: 0.4895833333333333 and parameters: {'kernel': 'linear', 'gamma': 'auto'}. Best is trial 2 with value: 0.8125.\u001b[0m\n",
      "\u001b[32m[I 2022-10-10 11:59:06,536]\u001b[0m Trial 5 finished with value: 0.4895833333333333 and parameters: {'kernel': 'linear', 'gamma': 'scale'}. Best is trial 2 with value: 0.8125.\u001b[0m\n",
      "\u001b[32m[I 2022-10-10 11:59:06,543]\u001b[0m Trial 6 finished with value: 0.4895833333333333 and parameters: {'kernel': 'linear', 'gamma': 'scale'}. Best is trial 2 with value: 0.8125.\u001b[0m\n",
      "\u001b[32m[I 2022-10-10 11:59:06,560]\u001b[0m Trial 7 finished with value: 0.8854166666666666 and parameters: {'kernel': 'rbf', 'gamma': 'scale'}. Best is trial 7 with value: 0.8854166666666666.\u001b[0m\n",
      "\u001b[32m[I 2022-10-10 11:59:06,664]\u001b[0m Trial 8 finished with value: 0.8125 and parameters: {'kernel': 'poly', 'gamma': 'scale'}. Best is trial 7 with value: 0.8854166666666666.\u001b[0m\n",
      "\u001b[32m[I 2022-10-10 11:59:06,677]\u001b[0m Trial 9 finished with value: 0.8020833333333334 and parameters: {'kernel': 'poly', 'gamma': 'auto'}. Best is trial 7 with value: 0.8854166666666666.\u001b[0m\n"
     ]
    },
    {
     "name": "stdout",
     "output_type": "stream",
     "text": [
      "Setting up low-pass filter at 30 Hz\n",
      "\n",
      "FIR filter parameters\n",
      "---------------------\n",
      "Designing a one-pass, zero-phase, non-causal lowpass filter:\n",
      "- Windowed time-domain design (firwin) method\n",
      "- Hamming window with 0.0194 passband ripple and 53 dB stopband attenuation\n",
      "- Upper passband edge: 30.00 Hz\n",
      "- Upper transition bandwidth: 7.50 Hz (-6 dB cutoff frequency: 33.75 Hz)\n",
      "- Filter length: 227 samples (0.443 sec)\n",
      "\n"
     ]
    },
    {
     "name": "stderr",
     "output_type": "stream",
     "text": [
      "[Parallel(n_jobs=1)]: Using backend SequentialBackend with 1 concurrent workers.\n",
      "[Parallel(n_jobs=1)]: Done   1 out of   1 | elapsed:    0.0s remaining:    0.0s\n",
      "[Parallel(n_jobs=1)]: Done   2 out of   2 | elapsed:    0.0s remaining:    0.0s\n",
      "[Parallel(n_jobs=1)]: Done   3 out of   3 | elapsed:    0.0s remaining:    0.0s\n",
      "[Parallel(n_jobs=1)]: Done   4 out of   4 | elapsed:    0.0s remaining:    0.0s\n"
     ]
    },
    {
     "name": "stdout",
     "output_type": "stream",
     "text": [
      "Setting up low-pass filter at 30 Hz\n"
     ]
    },
    {
     "name": "stderr",
     "output_type": "stream",
     "text": [
      "[Parallel(n_jobs=1)]: Done 1280 out of 1280 | elapsed:    0.9s finished\n"
     ]
    },
    {
     "name": "stdout",
     "output_type": "stream",
     "text": [
      "\n",
      "FIR filter parameters\n",
      "---------------------\n",
      "Designing a one-pass, zero-phase, non-causal lowpass filter:\n",
      "- Windowed time-domain design (firwin) method\n",
      "- Hamming window with 0.0194 passband ripple and 53 dB stopband attenuation\n",
      "- Upper passband edge: 30.00 Hz\n",
      "- Upper transition bandwidth: 7.50 Hz (-6 dB cutoff frequency: 33.75 Hz)\n",
      "- Filter length: 227 samples (0.443 sec)\n",
      "\n"
     ]
    },
    {
     "name": "stderr",
     "output_type": "stream",
     "text": [
      "[Parallel(n_jobs=1)]: Using backend SequentialBackend with 1 concurrent workers.\n",
      "[Parallel(n_jobs=1)]: Done   1 out of   1 | elapsed:    0.0s remaining:    0.0s\n",
      "[Parallel(n_jobs=1)]: Done   2 out of   2 | elapsed:    0.0s remaining:    0.0s\n",
      "[Parallel(n_jobs=1)]: Done   3 out of   3 | elapsed:    0.0s remaining:    0.0s\n",
      "[Parallel(n_jobs=1)]: Done   4 out of   4 | elapsed:    0.0s remaining:    0.0s\n",
      "[Parallel(n_jobs=1)]: Done 1536 out of 1536 | elapsed:    1.3s finished\n"
     ]
    },
    {
     "name": "stdout",
     "output_type": "stream",
     "text": [
      "(96,) (96, 16, 2048) (96, 16, 16)\n"
     ]
    },
    {
     "name": "stderr",
     "output_type": "stream",
     "text": [
      "\u001b[32m[I 2022-10-10 11:59:09,712]\u001b[0m A new study created in memory with name: no-name-f6fc00fa-50c3-481b-a4c5-df108352942d\u001b[0m\n",
      "\u001b[32m[I 2022-10-10 11:59:09,743]\u001b[0m Trial 0 finished with value: 0.75 and parameters: {'kernel': 'poly', 'gamma': 'auto'}. Best is trial 0 with value: 0.75.\u001b[0m\n",
      "\u001b[32m[I 2022-10-10 11:59:09,755]\u001b[0m Trial 1 finished with value: 0.78125 and parameters: {'kernel': 'rbf', 'gamma': 'auto'}. Best is trial 1 with value: 0.78125.\u001b[0m\n",
      "\u001b[32m[I 2022-10-10 11:59:09,805]\u001b[0m Trial 2 finished with value: 0.75 and parameters: {'kernel': 'poly', 'gamma': 'auto'}. Best is trial 1 with value: 0.78125.\u001b[0m\n",
      "\u001b[32m[I 2022-10-10 11:59:09,816]\u001b[0m Trial 3 finished with value: 0.7916666666666666 and parameters: {'kernel': 'rbf', 'gamma': 'scale'}. Best is trial 3 with value: 0.7916666666666666.\u001b[0m\n",
      "\u001b[32m[I 2022-10-10 11:59:09,823]\u001b[0m Trial 4 finished with value: 0.4583333333333333 and parameters: {'kernel': 'linear', 'gamma': 'auto'}. Best is trial 3 with value: 0.7916666666666666.\u001b[0m\n",
      "\u001b[32m[I 2022-10-10 11:59:09,831]\u001b[0m Trial 5 finished with value: 0.4583333333333333 and parameters: {'kernel': 'linear', 'gamma': 'auto'}. Best is trial 3 with value: 0.7916666666666666.\u001b[0m\n",
      "\u001b[32m[I 2022-10-10 11:59:09,842]\u001b[0m Trial 6 finished with value: 0.78125 and parameters: {'kernel': 'rbf', 'gamma': 'auto'}. Best is trial 3 with value: 0.7916666666666666.\u001b[0m\n",
      "\u001b[32m[I 2022-10-10 11:59:09,852]\u001b[0m Trial 7 finished with value: 0.78125 and parameters: {'kernel': 'rbf', 'gamma': 'auto'}. Best is trial 3 with value: 0.7916666666666666.\u001b[0m\n",
      "\u001b[32m[I 2022-10-10 11:59:09,862]\u001b[0m Trial 8 finished with value: 0.7916666666666666 and parameters: {'kernel': 'rbf', 'gamma': 'scale'}. Best is trial 3 with value: 0.7916666666666666.\u001b[0m\n",
      "\u001b[32m[I 2022-10-10 11:59:09,872]\u001b[0m Trial 9 finished with value: 0.7916666666666666 and parameters: {'kernel': 'rbf', 'gamma': 'scale'}. Best is trial 3 with value: 0.7916666666666666.\u001b[0m\n"
     ]
    },
    {
     "name": "stdout",
     "output_type": "stream",
     "text": [
      "Setting up low-pass filter at 30 Hz\n",
      "\n",
      "FIR filter parameters\n",
      "---------------------\n",
      "Designing a one-pass, zero-phase, non-causal lowpass filter:\n",
      "- Windowed time-domain design (firwin) method\n",
      "- Hamming window with 0.0194 passband ripple and 53 dB stopband attenuation\n",
      "- Upper passband edge: 30.00 Hz\n",
      "- Upper transition bandwidth: 7.50 Hz (-6 dB cutoff frequency: 33.75 Hz)\n",
      "- Filter length: 227 samples (0.443 sec)\n",
      "\n"
     ]
    },
    {
     "name": "stderr",
     "output_type": "stream",
     "text": [
      "[Parallel(n_jobs=1)]: Using backend SequentialBackend with 1 concurrent workers.\n",
      "[Parallel(n_jobs=1)]: Done   1 out of   1 | elapsed:    0.0s remaining:    0.0s\n",
      "[Parallel(n_jobs=1)]: Done   2 out of   2 | elapsed:    0.0s remaining:    0.0s\n",
      "[Parallel(n_jobs=1)]: Done   3 out of   3 | elapsed:    0.0s remaining:    0.0s\n",
      "[Parallel(n_jobs=1)]: Done   4 out of   4 | elapsed:    0.0s remaining:    0.0s\n"
     ]
    },
    {
     "name": "stdout",
     "output_type": "stream",
     "text": [
      "Setting up low-pass filter at 30 Hz\n",
      "\n"
     ]
    },
    {
     "name": "stderr",
     "output_type": "stream",
     "text": [
      "[Parallel(n_jobs=1)]: Done 1280 out of 1280 | elapsed:    0.9s finished\n"
     ]
    },
    {
     "name": "stdout",
     "output_type": "stream",
     "text": [
      "FIR filter parameters\n",
      "---------------------\n",
      "Designing a one-pass, zero-phase, non-causal lowpass filter:\n",
      "- Windowed time-domain design (firwin) method\n",
      "- Hamming window with 0.0194 passband ripple and 53 dB stopband attenuation\n",
      "- Upper passband edge: 30.00 Hz\n",
      "- Upper transition bandwidth: 7.50 Hz (-6 dB cutoff frequency: 33.75 Hz)\n",
      "- Filter length: 227 samples (0.443 sec)\n",
      "\n"
     ]
    },
    {
     "name": "stderr",
     "output_type": "stream",
     "text": [
      "[Parallel(n_jobs=1)]: Using backend SequentialBackend with 1 concurrent workers.\n",
      "[Parallel(n_jobs=1)]: Done   1 out of   1 | elapsed:    0.0s remaining:    0.0s\n",
      "[Parallel(n_jobs=1)]: Done   2 out of   2 | elapsed:    0.0s remaining:    0.0s\n",
      "[Parallel(n_jobs=1)]: Done   3 out of   3 | elapsed:    0.0s remaining:    0.0s\n",
      "[Parallel(n_jobs=1)]: Done   4 out of   4 | elapsed:    0.0s remaining:    0.0s\n",
      "[Parallel(n_jobs=1)]: Done 1536 out of 1536 | elapsed:    1.2s finished\n"
     ]
    },
    {
     "name": "stdout",
     "output_type": "stream",
     "text": [
      "(96,) (96, 16, 2048) (96, 16, 16)\n"
     ]
    },
    {
     "name": "stderr",
     "output_type": "stream",
     "text": [
      "\u001b[32m[I 2022-10-10 11:59:12,814]\u001b[0m A new study created in memory with name: no-name-3c94ba14-4a45-4808-8bde-5c03990f8cf7\u001b[0m\n",
      "\u001b[32m[I 2022-10-10 11:59:12,821]\u001b[0m Trial 0 finished with value: 0.7916666666666666 and parameters: {'kernel': 'poly', 'gamma': 'auto'}. Best is trial 0 with value: 0.7916666666666666.\u001b[0m\n",
      "\u001b[32m[I 2022-10-10 11:59:12,831]\u001b[0m Trial 1 finished with value: 0.8229166666666666 and parameters: {'kernel': 'rbf', 'gamma': 'scale'}. Best is trial 1 with value: 0.8229166666666666.\u001b[0m\n",
      "\u001b[32m[I 2022-10-10 11:59:12,839]\u001b[0m Trial 2 finished with value: 0.7916666666666666 and parameters: {'kernel': 'poly', 'gamma': 'auto'}. Best is trial 1 with value: 0.8229166666666666.\u001b[0m\n",
      "\u001b[32m[I 2022-10-10 11:59:12,846]\u001b[0m Trial 3 finished with value: 0.7604166666666666 and parameters: {'kernel': 'linear', 'gamma': 'scale'}. Best is trial 1 with value: 0.8229166666666666.\u001b[0m\n",
      "\u001b[32m[I 2022-10-10 11:59:12,853]\u001b[0m Trial 4 finished with value: 0.7604166666666666 and parameters: {'kernel': 'linear', 'gamma': 'auto'}. Best is trial 1 with value: 0.8229166666666666.\u001b[0m\n",
      "\u001b[32m[I 2022-10-10 11:59:12,858]\u001b[0m Trial 5 finished with value: 0.7604166666666666 and parameters: {'kernel': 'linear', 'gamma': 'auto'}. Best is trial 1 with value: 0.8229166666666666.\u001b[0m\n",
      "\u001b[32m[I 2022-10-10 11:59:12,864]\u001b[0m Trial 6 finished with value: 0.7604166666666666 and parameters: {'kernel': 'linear', 'gamma': 'scale'}. Best is trial 1 with value: 0.8229166666666666.\u001b[0m\n",
      "\u001b[32m[I 2022-10-10 11:59:12,871]\u001b[0m Trial 7 finished with value: 0.7604166666666666 and parameters: {'kernel': 'linear', 'gamma': 'scale'}. Best is trial 1 with value: 0.8229166666666666.\u001b[0m\n",
      "\u001b[32m[I 2022-10-10 11:59:12,877]\u001b[0m Trial 8 finished with value: 0.7916666666666666 and parameters: {'kernel': 'poly', 'gamma': 'scale'}. Best is trial 1 with value: 0.8229166666666666.\u001b[0m\n",
      "\u001b[32m[I 2022-10-10 11:59:12,884]\u001b[0m Trial 9 finished with value: 0.7916666666666666 and parameters: {'kernel': 'poly', 'gamma': 'auto'}. Best is trial 1 with value: 0.8229166666666666.\u001b[0m\n"
     ]
    },
    {
     "name": "stdout",
     "output_type": "stream",
     "text": [
      "Setting up low-pass filter at 30 Hz\n",
      "\n",
      "FIR filter parameters\n",
      "---------------------\n",
      "Designing a one-pass, zero-phase, non-causal lowpass filter:\n",
      "- Windowed time-domain design (firwin) method\n",
      "- Hamming window with 0.0194 passband ripple and 53 dB stopband attenuation\n",
      "- Upper passband edge: 30.00 Hz\n",
      "- Upper transition bandwidth: 7.50 Hz (-6 dB cutoff frequency: 33.75 Hz)\n",
      "- Filter length: 227 samples (0.443 sec)\n",
      "\n"
     ]
    },
    {
     "name": "stderr",
     "output_type": "stream",
     "text": [
      "[Parallel(n_jobs=1)]: Using backend SequentialBackend with 1 concurrent workers.\n",
      "[Parallel(n_jobs=1)]: Done   1 out of   1 | elapsed:    0.0s remaining:    0.0s\n",
      "[Parallel(n_jobs=1)]: Done   2 out of   2 | elapsed:    0.0s remaining:    0.0s\n",
      "[Parallel(n_jobs=1)]: Done   3 out of   3 | elapsed:    0.0s remaining:    0.0s\n",
      "[Parallel(n_jobs=1)]: Done   4 out of   4 | elapsed:    0.0s remaining:    0.0s\n"
     ]
    },
    {
     "name": "stdout",
     "output_type": "stream",
     "text": [
      "Setting up low-pass filter at 30 Hz\n",
      "\n",
      "FIR filter parameters\n",
      "---------------------\n",
      "Designing a one-pass, zero-phase, non-causal lowpass filter:\n",
      "- Windowed time-domain design (firwin) method\n",
      "- Hamming window with 0.0194 passband ripple and 53 dB stopband attenuation\n",
      "- Upper passband edge: 30.00 Hz\n",
      "- Upper transition bandwidth: 7.50 Hz (-6 dB cutoff frequency: 33.75 Hz)\n"
     ]
    },
    {
     "name": "stderr",
     "output_type": "stream",
     "text": [
      "[Parallel(n_jobs=1)]: Done 1280 out of 1280 | elapsed:    1.0s finished\n"
     ]
    },
    {
     "name": "stdout",
     "output_type": "stream",
     "text": [
      "- Filter length: 227 samples (0.443 sec)\n",
      "\n"
     ]
    },
    {
     "name": "stderr",
     "output_type": "stream",
     "text": [
      "[Parallel(n_jobs=1)]: Using backend SequentialBackend with 1 concurrent workers.\n",
      "[Parallel(n_jobs=1)]: Done   1 out of   1 | elapsed:    0.0s remaining:    0.0s\n",
      "[Parallel(n_jobs=1)]: Done   2 out of   2 | elapsed:    0.0s remaining:    0.0s\n",
      "[Parallel(n_jobs=1)]: Done   3 out of   3 | elapsed:    0.0s remaining:    0.0s\n",
      "[Parallel(n_jobs=1)]: Done   4 out of   4 | elapsed:    0.0s remaining:    0.0s\n",
      "[Parallel(n_jobs=1)]: Done 1536 out of 1536 | elapsed:    1.2s finished\n",
      "\u001b[32m[I 2022-10-10 11:59:15,823]\u001b[0m A new study created in memory with name: no-name-be3674d4-f1b5-436e-b33a-3f3b04b36a5c\u001b[0m\n",
      "\u001b[32m[I 2022-10-10 11:59:15,829]\u001b[0m Trial 0 finished with value: 0.5833333333333334 and parameters: {'kernel': 'linear', 'gamma': 'scale'}. Best is trial 0 with value: 0.5833333333333334.\u001b[0m\n"
     ]
    },
    {
     "name": "stdout",
     "output_type": "stream",
     "text": [
      "(96,) (96, 16, 2048) (96, 16, 16)\n"
     ]
    },
    {
     "name": "stderr",
     "output_type": "stream",
     "text": [
      "\u001b[32m[I 2022-10-10 11:59:15,838]\u001b[0m Trial 1 finished with value: 0.84375 and parameters: {'kernel': 'rbf', 'gamma': 'auto'}. Best is trial 1 with value: 0.84375.\u001b[0m\n",
      "\u001b[32m[I 2022-10-10 11:59:15,873]\u001b[0m Trial 2 finished with value: 0.7916666666666666 and parameters: {'kernel': 'poly', 'gamma': 'auto'}. Best is trial 1 with value: 0.84375.\u001b[0m\n",
      "\u001b[32m[I 2022-10-10 11:59:15,883]\u001b[0m Trial 3 finished with value: 0.84375 and parameters: {'kernel': 'rbf', 'gamma': 'auto'}. Best is trial 1 with value: 0.84375.\u001b[0m\n",
      "\u001b[32m[I 2022-10-10 11:59:15,890]\u001b[0m Trial 4 finished with value: 0.5833333333333334 and parameters: {'kernel': 'linear', 'gamma': 'scale'}. Best is trial 1 with value: 0.84375.\u001b[0m\n",
      "\u001b[32m[I 2022-10-10 11:59:15,901]\u001b[0m Trial 5 finished with value: 0.8645833333333334 and parameters: {'kernel': 'rbf', 'gamma': 'scale'}. Best is trial 5 with value: 0.8645833333333334.\u001b[0m\n",
      "\u001b[32m[I 2022-10-10 11:59:15,957]\u001b[0m Trial 6 finished with value: 0.7916666666666666 and parameters: {'kernel': 'poly', 'gamma': 'auto'}. Best is trial 5 with value: 0.8645833333333334.\u001b[0m\n",
      "\u001b[32m[I 2022-10-10 11:59:15,967]\u001b[0m Trial 7 finished with value: 0.5833333333333334 and parameters: {'kernel': 'linear', 'gamma': 'auto'}. Best is trial 5 with value: 0.8645833333333334.\u001b[0m\n",
      "\u001b[32m[I 2022-10-10 11:59:16,029]\u001b[0m Trial 8 finished with value: 0.7916666666666666 and parameters: {'kernel': 'poly', 'gamma': 'scale'}. Best is trial 5 with value: 0.8645833333333334.\u001b[0m\n",
      "\u001b[32m[I 2022-10-10 11:59:16,039]\u001b[0m Trial 9 finished with value: 0.5833333333333334 and parameters: {'kernel': 'linear', 'gamma': 'auto'}. Best is trial 5 with value: 0.8645833333333334.\u001b[0m\n"
     ]
    },
    {
     "name": "stdout",
     "output_type": "stream",
     "text": [
      "Setting up low-pass filter at 30 Hz\n",
      "\n",
      "FIR filter parameters\n",
      "---------------------\n",
      "Designing a one-pass, zero-phase, non-causal lowpass filter:\n",
      "- Windowed time-domain design (firwin) method\n",
      "- Hamming window with 0.0194 passband ripple and 53 dB stopband attenuation\n",
      "- Upper passband edge: 30.00 Hz\n",
      "- Upper transition bandwidth: 7.50 Hz (-6 dB cutoff frequency: 33.75 Hz)\n",
      "- Filter length: 227 samples (0.443 sec)\n",
      "\n"
     ]
    },
    {
     "name": "stderr",
     "output_type": "stream",
     "text": [
      "[Parallel(n_jobs=1)]: Using backend SequentialBackend with 1 concurrent workers.\n",
      "[Parallel(n_jobs=1)]: Done   1 out of   1 | elapsed:    0.0s remaining:    0.0s\n",
      "[Parallel(n_jobs=1)]: Done   2 out of   2 | elapsed:    0.0s remaining:    0.0s\n",
      "[Parallel(n_jobs=1)]: Done   3 out of   3 | elapsed:    0.0s remaining:    0.0s\n",
      "[Parallel(n_jobs=1)]: Done   4 out of   4 | elapsed:    0.0s remaining:    0.0s\n",
      "[Parallel(n_jobs=1)]: Done 1280 out of 1280 | elapsed:    1.0s finished\n"
     ]
    },
    {
     "data": {
      "text/html": [
       "<div>\n",
       "<style scoped>\n",
       "    .dataframe tbody tr th:only-of-type {\n",
       "        vertical-align: middle;\n",
       "    }\n",
       "\n",
       "    .dataframe tbody tr th {\n",
       "        vertical-align: top;\n",
       "    }\n",
       "\n",
       "    .dataframe thead th {\n",
       "        text-align: right;\n",
       "    }\n",
       "</style>\n",
       "<table border=\"1\" class=\"dataframe\">\n",
       "  <thead>\n",
       "    <tr style=\"text-align: right;\">\n",
       "      <th></th>\n",
       "      <th>pre</th>\n",
       "      <th>post</th>\n",
       "    </tr>\n",
       "  </thead>\n",
       "  <tbody>\n",
       "    <tr>\n",
       "      <th>P1</th>\n",
       "      <td>0.8125</td>\n",
       "      <td>0.9875</td>\n",
       "    </tr>\n",
       "    <tr>\n",
       "      <th>P2</th>\n",
       "      <td>0.7625</td>\n",
       "      <td>0.75</td>\n",
       "    </tr>\n",
       "    <tr>\n",
       "      <th>P3</th>\n",
       "      <td>0.75</td>\n",
       "      <td>0.775</td>\n",
       "    </tr>\n",
       "  </tbody>\n",
       "</table>\n",
       "</div>"
      ],
      "text/plain": [
       "       pre    post\n",
       "P1  0.8125  0.9875\n",
       "P2  0.7625    0.75\n",
       "P3    0.75   0.775"
      ]
     },
     "execution_count": 43,
     "metadata": {},
     "output_type": "execute_result"
    }
   ],
   "source": [
    "NuSVC_results=pd.DataFrame(columns=['pre','post'],index=['P1','P2','P3'])\n",
    "NuSVC_p=pipeline([\n",
    "    # filter(70,40,256),\n",
    "    filter(0,30,256),\n",
    "    csp(16),\n",
    "    classifier(\n",
    "        NuSVC,\n",
    "        NuSVC_params\n",
    "        )\n",
    "    ])\n",
    "results(NuSVC_results,NuSVC_p)\n",
    "NuSVC_results"
   ]
  },
  {
   "cell_type": "markdown",
   "metadata": {},
   "source": [
    "#### random forest"
   ]
  },
  {
   "cell_type": "code",
   "execution_count": 44,
   "metadata": {},
   "outputs": [
    {
     "name": "stderr",
     "output_type": "stream",
     "text": [
      "\u001b[32m[I 2022-10-10 11:59:40,848]\u001b[0m A new study created in memory with name: no-name-bc4c0f00-5c7a-463a-8611-1c567be06636\u001b[0m\n"
     ]
    },
    {
     "name": "stdout",
     "output_type": "stream",
     "text": [
      "(96,) (96, 16, 2048) (96, 16, 16)\n"
     ]
    },
    {
     "name": "stderr",
     "output_type": "stream",
     "text": [
      "\u001b[32m[I 2022-10-10 11:59:41,226]\u001b[0m Trial 0 finished with value: 0.8125 and parameters: {'max_depth': 3, 'min_impurity_decrease': 0, 'criterion': 'log_loss'}. Best is trial 0 with value: 0.8125.\u001b[0m\n",
      "\u001b[32m[I 2022-10-10 11:59:41,534]\u001b[0m Trial 1 finished with value: 1.0 and parameters: {'max_depth': 6, 'min_impurity_decrease': 0, 'criterion': 'gini'}. Best is trial 1 with value: 1.0.\u001b[0m\n",
      "\u001b[32m[I 2022-10-10 11:59:41,946]\u001b[0m Trial 2 finished with value: 1.0 and parameters: {'max_depth': 10, 'min_impurity_decrease': 0, 'criterion': 'entropy'}. Best is trial 1 with value: 1.0.\u001b[0m\n",
      "\u001b[32m[I 2022-10-10 11:59:42,281]\u001b[0m Trial 3 finished with value: 1.0 and parameters: {'max_depth': 12, 'min_impurity_decrease': 0, 'criterion': 'gini'}. Best is trial 1 with value: 1.0.\u001b[0m\n",
      "\u001b[32m[I 2022-10-10 11:59:42,634]\u001b[0m Trial 4 finished with value: 0.9895833333333334 and parameters: {'max_depth': 6, 'min_impurity_decrease': 0, 'criterion': 'entropy'}. Best is trial 1 with value: 1.0.\u001b[0m\n",
      "\u001b[32m[I 2022-10-10 11:59:43,047]\u001b[0m Trial 5 finished with value: 1.0 and parameters: {'max_depth': 17, 'min_impurity_decrease': 0, 'criterion': 'log_loss'}. Best is trial 1 with value: 1.0.\u001b[0m\n",
      "\u001b[32m[I 2022-10-10 11:59:43,380]\u001b[0m Trial 6 finished with value: 1.0 and parameters: {'max_depth': 12, 'min_impurity_decrease': 0, 'criterion': 'gini'}. Best is trial 1 with value: 1.0.\u001b[0m\n",
      "\u001b[32m[I 2022-10-10 11:59:43,715]\u001b[0m Trial 7 finished with value: 1.0 and parameters: {'max_depth': 13, 'min_impurity_decrease': 0, 'criterion': 'log_loss'}. Best is trial 1 with value: 1.0.\u001b[0m\n",
      "\u001b[32m[I 2022-10-10 11:59:44,052]\u001b[0m Trial 8 finished with value: 0.96875 and parameters: {'max_depth': 5, 'min_impurity_decrease': 0, 'criterion': 'entropy'}. Best is trial 1 with value: 1.0.\u001b[0m\n",
      "\u001b[32m[I 2022-10-10 11:59:44,406]\u001b[0m Trial 9 finished with value: 0.7708333333333334 and parameters: {'max_depth': 3, 'min_impurity_decrease': 0, 'criterion': 'entropy'}. Best is trial 1 with value: 1.0.\u001b[0m\n"
     ]
    },
    {
     "name": "stdout",
     "output_type": "stream",
     "text": [
      "(96,) (96, 16, 2048) (96, 16, 16)\n"
     ]
    },
    {
     "name": "stderr",
     "output_type": "stream",
     "text": [
      "\u001b[32m[I 2022-10-10 11:59:45,173]\u001b[0m A new study created in memory with name: no-name-f6ca0f96-df83-4c77-9345-f3eae9fe534e\u001b[0m\n",
      "\u001b[32m[I 2022-10-10 11:59:45,490]\u001b[0m Trial 0 finished with value: 1.0 and parameters: {'max_depth': 5, 'min_impurity_decrease': 0, 'criterion': 'log_loss'}. Best is trial 0 with value: 1.0.\u001b[0m\n",
      "\u001b[32m[I 2022-10-10 11:59:45,821]\u001b[0m Trial 1 finished with value: 1.0 and parameters: {'max_depth': 11, 'min_impurity_decrease': 0, 'criterion': 'log_loss'}. Best is trial 0 with value: 1.0.\u001b[0m\n",
      "\u001b[32m[I 2022-10-10 11:59:46,154]\u001b[0m Trial 2 finished with value: 1.0 and parameters: {'max_depth': 9, 'min_impurity_decrease': 0, 'criterion': 'gini'}. Best is trial 0 with value: 1.0.\u001b[0m\n",
      "\u001b[32m[I 2022-10-10 11:59:46,527]\u001b[0m Trial 3 finished with value: 1.0 and parameters: {'max_depth': 5, 'min_impurity_decrease': 0, 'criterion': 'entropy'}. Best is trial 0 with value: 1.0.\u001b[0m\n",
      "\u001b[32m[I 2022-10-10 11:59:46,835]\u001b[0m Trial 4 finished with value: 1.0 and parameters: {'max_depth': 16, 'min_impurity_decrease': 0, 'criterion': 'gini'}. Best is trial 0 with value: 1.0.\u001b[0m\n",
      "\u001b[32m[I 2022-10-10 11:59:47,088]\u001b[0m Trial 5 finished with value: 1.0 and parameters: {'max_depth': 3, 'min_impurity_decrease': 0, 'criterion': 'log_loss'}. Best is trial 0 with value: 1.0.\u001b[0m\n",
      "\u001b[32m[I 2022-10-10 11:59:47,483]\u001b[0m Trial 6 finished with value: 1.0 and parameters: {'max_depth': 8, 'min_impurity_decrease': 0, 'criterion': 'gini'}. Best is trial 0 with value: 1.0.\u001b[0m\n",
      "\u001b[32m[I 2022-10-10 11:59:47,751]\u001b[0m Trial 7 finished with value: 1.0 and parameters: {'max_depth': 15, 'min_impurity_decrease': 0, 'criterion': 'log_loss'}. Best is trial 0 with value: 1.0.\u001b[0m\n",
      "\u001b[32m[I 2022-10-10 11:59:48,140]\u001b[0m Trial 8 finished with value: 1.0 and parameters: {'max_depth': 5, 'min_impurity_decrease': 0, 'criterion': 'gini'}. Best is trial 0 with value: 1.0.\u001b[0m\n",
      "\u001b[32m[I 2022-10-10 11:59:48,379]\u001b[0m Trial 9 finished with value: 1.0 and parameters: {'max_depth': 9, 'min_impurity_decrease': 0, 'criterion': 'entropy'}. Best is trial 0 with value: 1.0.\u001b[0m\n",
      "\u001b[32m[I 2022-10-10 11:59:49,170]\u001b[0m A new study created in memory with name: no-name-cafce0cd-4eb5-4828-91c5-cd9e39fd935f\u001b[0m\n"
     ]
    },
    {
     "name": "stdout",
     "output_type": "stream",
     "text": [
      "(96,) (96, 16, 2048) (96, 16, 16)\n"
     ]
    },
    {
     "name": "stderr",
     "output_type": "stream",
     "text": [
      "\u001b[32m[I 2022-10-10 11:59:49,621]\u001b[0m Trial 0 finished with value: 1.0 and parameters: {'max_depth': 7, 'min_impurity_decrease': 0, 'criterion': 'gini'}. Best is trial 0 with value: 1.0.\u001b[0m\n",
      "\u001b[32m[I 2022-10-10 11:59:49,849]\u001b[0m Trial 1 finished with value: 0.8854166666666666 and parameters: {'max_depth': 4, 'min_impurity_decrease': 0, 'criterion': 'gini'}. Best is trial 0 with value: 1.0.\u001b[0m\n",
      "\u001b[32m[I 2022-10-10 11:59:50,297]\u001b[0m Trial 2 finished with value: 1.0 and parameters: {'max_depth': 8, 'min_impurity_decrease': 0, 'criterion': 'log_loss'}. Best is trial 0 with value: 1.0.\u001b[0m\n",
      "\u001b[32m[I 2022-10-10 11:59:50,566]\u001b[0m Trial 3 finished with value: 1.0 and parameters: {'max_depth': 17, 'min_impurity_decrease': 0, 'criterion': 'entropy'}. Best is trial 0 with value: 1.0.\u001b[0m\n",
      "\u001b[32m[I 2022-10-10 11:59:50,941]\u001b[0m Trial 4 finished with value: 1.0 and parameters: {'max_depth': 14, 'min_impurity_decrease': 0, 'criterion': 'gini'}. Best is trial 0 with value: 1.0.\u001b[0m\n",
      "\u001b[32m[I 2022-10-10 11:59:51,278]\u001b[0m Trial 5 finished with value: 1.0 and parameters: {'max_depth': 15, 'min_impurity_decrease': 0, 'criterion': 'gini'}. Best is trial 0 with value: 1.0.\u001b[0m\n",
      "\u001b[32m[I 2022-10-10 11:59:51,646]\u001b[0m Trial 6 finished with value: 1.0 and parameters: {'max_depth': 6, 'min_impurity_decrease': 0, 'criterion': 'log_loss'}. Best is trial 0 with value: 1.0.\u001b[0m\n",
      "\u001b[32m[I 2022-10-10 11:59:51,956]\u001b[0m Trial 7 finished with value: 1.0 and parameters: {'max_depth': 7, 'min_impurity_decrease': 0, 'criterion': 'entropy'}. Best is trial 0 with value: 1.0.\u001b[0m\n",
      "\u001b[32m[I 2022-10-10 11:59:52,328]\u001b[0m Trial 8 finished with value: 1.0 and parameters: {'max_depth': 11, 'min_impurity_decrease': 0, 'criterion': 'gini'}. Best is trial 0 with value: 1.0.\u001b[0m\n",
      "\u001b[32m[I 2022-10-10 11:59:52,611]\u001b[0m Trial 9 finished with value: 1.0 and parameters: {'max_depth': 8, 'min_impurity_decrease': 0, 'criterion': 'entropy'}. Best is trial 0 with value: 1.0.\u001b[0m\n",
      "\u001b[32m[I 2022-10-10 11:59:53,344]\u001b[0m A new study created in memory with name: no-name-67c5bd25-c79e-498d-9ac8-c1479da2bd3c\u001b[0m\n"
     ]
    },
    {
     "name": "stdout",
     "output_type": "stream",
     "text": [
      "(96,) (96, 16, 2048) (96, 16, 16)\n"
     ]
    },
    {
     "name": "stderr",
     "output_type": "stream",
     "text": [
      "\u001b[32m[I 2022-10-10 11:59:53,792]\u001b[0m Trial 0 finished with value: 1.0 and parameters: {'max_depth': 14, 'min_impurity_decrease': 0, 'criterion': 'log_loss'}. Best is trial 0 with value: 1.0.\u001b[0m\n",
      "\u001b[32m[I 2022-10-10 11:59:54,064]\u001b[0m Trial 1 finished with value: 1.0 and parameters: {'max_depth': 7, 'min_impurity_decrease': 0, 'criterion': 'gini'}. Best is trial 0 with value: 1.0.\u001b[0m\n",
      "\u001b[32m[I 2022-10-10 11:59:54,475]\u001b[0m Trial 2 finished with value: 1.0 and parameters: {'max_depth': 17, 'min_impurity_decrease': 0, 'criterion': 'entropy'}. Best is trial 0 with value: 1.0.\u001b[0m\n",
      "\u001b[32m[I 2022-10-10 11:59:54,731]\u001b[0m Trial 3 finished with value: 1.0 and parameters: {'max_depth': 12, 'min_impurity_decrease': 0, 'criterion': 'entropy'}. Best is trial 0 with value: 1.0.\u001b[0m\n",
      "\u001b[32m[I 2022-10-10 11:59:55,160]\u001b[0m Trial 4 finished with value: 1.0 and parameters: {'max_depth': 8, 'min_impurity_decrease': 0, 'criterion': 'gini'}. Best is trial 0 with value: 1.0.\u001b[0m\n",
      "\u001b[32m[I 2022-10-10 11:59:55,403]\u001b[0m Trial 5 finished with value: 1.0 and parameters: {'max_depth': 10, 'min_impurity_decrease': 0, 'criterion': 'gini'}. Best is trial 0 with value: 1.0.\u001b[0m\n",
      "\u001b[32m[I 2022-10-10 11:59:55,839]\u001b[0m Trial 6 finished with value: 0.9895833333333334 and parameters: {'max_depth': 7, 'min_impurity_decrease': 0, 'criterion': 'log_loss'}. Best is trial 0 with value: 1.0.\u001b[0m\n",
      "\u001b[32m[I 2022-10-10 11:59:56,058]\u001b[0m Trial 7 finished with value: 1.0 and parameters: {'max_depth': 6, 'min_impurity_decrease': 0, 'criterion': 'gini'}. Best is trial 0 with value: 1.0.\u001b[0m\n",
      "\u001b[32m[I 2022-10-10 11:59:56,387]\u001b[0m Trial 8 finished with value: 1.0 and parameters: {'max_depth': 17, 'min_impurity_decrease': 0, 'criterion': 'entropy'}. Best is trial 0 with value: 1.0.\u001b[0m\n",
      "\u001b[32m[I 2022-10-10 11:59:56,714]\u001b[0m Trial 9 finished with value: 1.0 and parameters: {'max_depth': 8, 'min_impurity_decrease': 0, 'criterion': 'entropy'}. Best is trial 0 with value: 1.0.\u001b[0m\n",
      "\u001b[32m[I 2022-10-10 11:59:57,420]\u001b[0m A new study created in memory with name: no-name-865197d3-b989-47d7-bb4a-091196254906\u001b[0m\n"
     ]
    },
    {
     "name": "stdout",
     "output_type": "stream",
     "text": [
      "(96,) (96, 16, 2048) (96, 16, 16)\n"
     ]
    },
    {
     "name": "stderr",
     "output_type": "stream",
     "text": [
      "\u001b[32m[I 2022-10-10 11:59:57,729]\u001b[0m Trial 0 finished with value: 1.0 and parameters: {'max_depth': 10, 'min_impurity_decrease': 0, 'criterion': 'gini'}. Best is trial 0 with value: 1.0.\u001b[0m\n",
      "\u001b[32m[I 2022-10-10 11:59:58,093]\u001b[0m Trial 1 finished with value: 1.0 and parameters: {'max_depth': 15, 'min_impurity_decrease': 0, 'criterion': 'entropy'}. Best is trial 0 with value: 1.0.\u001b[0m\n",
      "\u001b[32m[I 2022-10-10 11:59:58,363]\u001b[0m Trial 2 finished with value: 1.0 and parameters: {'max_depth': 13, 'min_impurity_decrease': 0, 'criterion': 'gini'}. Best is trial 0 with value: 1.0.\u001b[0m\n",
      "\u001b[32m[I 2022-10-10 11:59:58,742]\u001b[0m Trial 3 finished with value: 1.0 and parameters: {'max_depth': 16, 'min_impurity_decrease': 0, 'criterion': 'gini'}. Best is trial 0 with value: 1.0.\u001b[0m\n",
      "\u001b[32m[I 2022-10-10 11:59:58,976]\u001b[0m Trial 4 finished with value: 1.0 and parameters: {'max_depth': 15, 'min_impurity_decrease': 0, 'criterion': 'log_loss'}. Best is trial 0 with value: 1.0.\u001b[0m\n",
      "\u001b[32m[I 2022-10-10 11:59:59,391]\u001b[0m Trial 5 finished with value: 0.9375 and parameters: {'max_depth': 4, 'min_impurity_decrease': 0, 'criterion': 'log_loss'}. Best is trial 0 with value: 1.0.\u001b[0m\n",
      "\u001b[32m[I 2022-10-10 11:59:59,611]\u001b[0m Trial 6 finished with value: 1.0 and parameters: {'max_depth': 7, 'min_impurity_decrease': 0, 'criterion': 'entropy'}. Best is trial 0 with value: 1.0.\u001b[0m\n",
      "\u001b[32m[I 2022-10-10 11:59:59,988]\u001b[0m Trial 7 finished with value: 1.0 and parameters: {'max_depth': 15, 'min_impurity_decrease': 0, 'criterion': 'entropy'}. Best is trial 0 with value: 1.0.\u001b[0m\n",
      "\u001b[32m[I 2022-10-10 12:00:00,265]\u001b[0m Trial 8 finished with value: 1.0 and parameters: {'max_depth': 10, 'min_impurity_decrease': 0, 'criterion': 'log_loss'}. Best is trial 0 with value: 1.0.\u001b[0m\n",
      "\u001b[32m[I 2022-10-10 12:00:00,635]\u001b[0m Trial 9 finished with value: 1.0 and parameters: {'max_depth': 8, 'min_impurity_decrease': 0, 'criterion': 'log_loss'}. Best is trial 0 with value: 1.0.\u001b[0m\n",
      "\u001b[32m[I 2022-10-10 12:00:01,359]\u001b[0m A new study created in memory with name: no-name-05cb1dd3-4013-49d2-9968-fc5d1534d67a\u001b[0m\n"
     ]
    },
    {
     "name": "stdout",
     "output_type": "stream",
     "text": [
      "(96,) (96, 16, 2048) (96, 16, 16)\n"
     ]
    },
    {
     "name": "stderr",
     "output_type": "stream",
     "text": [
      "\u001b[32m[I 2022-10-10 12:00:01,611]\u001b[0m Trial 0 finished with value: 1.0 and parameters: {'max_depth': 10, 'min_impurity_decrease': 0, 'criterion': 'entropy'}. Best is trial 0 with value: 1.0.\u001b[0m\n",
      "\u001b[32m[I 2022-10-10 12:00:01,997]\u001b[0m Trial 1 finished with value: 1.0 and parameters: {'max_depth': 14, 'min_impurity_decrease': 0, 'criterion': 'log_loss'}. Best is trial 0 with value: 1.0.\u001b[0m\n",
      "\u001b[32m[I 2022-10-10 12:00:02,257]\u001b[0m Trial 2 finished with value: 0.78125 and parameters: {'max_depth': 2, 'min_impurity_decrease': 0, 'criterion': 'gini'}. Best is trial 0 with value: 1.0.\u001b[0m\n",
      "\u001b[32m[I 2022-10-10 12:00:02,629]\u001b[0m Trial 3 finished with value: 1.0 and parameters: {'max_depth': 11, 'min_impurity_decrease': 0, 'criterion': 'entropy'}. Best is trial 0 with value: 1.0.\u001b[0m\n",
      "\u001b[32m[I 2022-10-10 12:00:02,936]\u001b[0m Trial 4 finished with value: 0.9479166666666666 and parameters: {'max_depth': 4, 'min_impurity_decrease': 0, 'criterion': 'log_loss'}. Best is trial 0 with value: 1.0.\u001b[0m\n",
      "\u001b[32m[I 2022-10-10 12:00:03,240]\u001b[0m Trial 5 finished with value: 1.0 and parameters: {'max_depth': 7, 'min_impurity_decrease': 0, 'criterion': 'entropy'}. Best is trial 0 with value: 1.0.\u001b[0m\n",
      "\u001b[32m[I 2022-10-10 12:00:03,630]\u001b[0m Trial 6 finished with value: 1.0 and parameters: {'max_depth': 11, 'min_impurity_decrease': 0, 'criterion': 'entropy'}. Best is trial 0 with value: 1.0.\u001b[0m\n",
      "\u001b[32m[I 2022-10-10 12:00:03,921]\u001b[0m Trial 7 finished with value: 1.0 and parameters: {'max_depth': 9, 'min_impurity_decrease': 0, 'criterion': 'gini'}. Best is trial 0 with value: 1.0.\u001b[0m\n",
      "\u001b[32m[I 2022-10-10 12:00:04,288]\u001b[0m Trial 8 finished with value: 1.0 and parameters: {'max_depth': 9, 'min_impurity_decrease': 0, 'criterion': 'gini'}. Best is trial 0 with value: 1.0.\u001b[0m\n",
      "\u001b[32m[I 2022-10-10 12:00:04,624]\u001b[0m Trial 9 finished with value: 1.0 and parameters: {'max_depth': 10, 'min_impurity_decrease': 0, 'criterion': 'log_loss'}. Best is trial 0 with value: 1.0.\u001b[0m\n"
     ]
    },
    {
     "data": {
      "text/html": [
       "<div>\n",
       "<style scoped>\n",
       "    .dataframe tbody tr th:only-of-type {\n",
       "        vertical-align: middle;\n",
       "    }\n",
       "\n",
       "    .dataframe tbody tr th {\n",
       "        vertical-align: top;\n",
       "    }\n",
       "\n",
       "    .dataframe thead th {\n",
       "        text-align: right;\n",
       "    }\n",
       "</style>\n",
       "<table border=\"1\" class=\"dataframe\">\n",
       "  <thead>\n",
       "    <tr style=\"text-align: right;\">\n",
       "      <th></th>\n",
       "      <th>pre</th>\n",
       "      <th>post</th>\n",
       "    </tr>\n",
       "  </thead>\n",
       "  <tbody>\n",
       "    <tr>\n",
       "      <th>P1</th>\n",
       "      <td>0.8625</td>\n",
       "      <td>0.95</td>\n",
       "    </tr>\n",
       "    <tr>\n",
       "      <th>P2</th>\n",
       "      <td>0.85</td>\n",
       "      <td>0.8125</td>\n",
       "    </tr>\n",
       "    <tr>\n",
       "      <th>P3</th>\n",
       "      <td>0.8875</td>\n",
       "      <td>0.85</td>\n",
       "    </tr>\n",
       "  </tbody>\n",
       "</table>\n",
       "</div>"
      ],
      "text/plain": [
       "       pre    post\n",
       "P1  0.8625    0.95\n",
       "P2    0.85  0.8125\n",
       "P3  0.8875    0.85"
      ]
     },
     "execution_count": 44,
     "metadata": {},
     "output_type": "execute_result"
    }
   ],
   "source": [
    "random_forest_results=pd.DataFrame(columns=['pre','post'],index=['P1','P2','P3'])\n",
    "rndfor=pipeline([\n",
    "        # filter(70,40,256),\n",
    "        # filter(0,30,256),\n",
    "        csp(16),\n",
    "            classifier(\n",
    "                RandomForestClassifier,\n",
    "                rand_for_params\n",
    "                )\n",
    "        ])\n",
    "results(random_forest_results,rndfor)\n",
    "random_forest_results"
   ]
  },
  {
   "cell_type": "markdown",
   "metadata": {},
   "source": [
    "#### result"
   ]
  },
  {
   "cell_type": "code",
   "execution_count": 113,
   "metadata": {},
   "outputs": [
    {
     "data": {
      "text/html": [
       "<div>\n",
       "<style scoped>\n",
       "    .dataframe tbody tr th:only-of-type {\n",
       "        vertical-align: middle;\n",
       "    }\n",
       "\n",
       "    .dataframe tbody tr th {\n",
       "        vertical-align: top;\n",
       "    }\n",
       "\n",
       "    .dataframe thead th {\n",
       "        text-align: right;\n",
       "    }\n",
       "</style>\n",
       "<table border=\"1\" class=\"dataframe\">\n",
       "  <thead>\n",
       "    <tr style=\"text-align: right;\">\n",
       "      <th></th>\n",
       "      <th>pre</th>\n",
       "      <th>post</th>\n",
       "      <th>subject</th>\n",
       "      <th>clf</th>\n",
       "    </tr>\n",
       "  </thead>\n",
       "  <tbody>\n",
       "    <tr>\n",
       "      <th>0</th>\n",
       "      <td>0.8375</td>\n",
       "      <td>0.9375</td>\n",
       "      <td>P1</td>\n",
       "      <td>Decision Tree</td>\n",
       "    </tr>\n",
       "    <tr>\n",
       "      <th>1</th>\n",
       "      <td>0.8500</td>\n",
       "      <td>0.7875</td>\n",
       "      <td>P2</td>\n",
       "      <td>Decision Tree</td>\n",
       "    </tr>\n",
       "    <tr>\n",
       "      <th>2</th>\n",
       "      <td>0.8750</td>\n",
       "      <td>0.8875</td>\n",
       "      <td>P3</td>\n",
       "      <td>Decision Tree</td>\n",
       "    </tr>\n",
       "    <tr>\n",
       "      <th>3</th>\n",
       "      <td>0.8125</td>\n",
       "      <td>0.9875</td>\n",
       "      <td>P1</td>\n",
       "      <td>NuSVC</td>\n",
       "    </tr>\n",
       "    <tr>\n",
       "      <th>4</th>\n",
       "      <td>0.7625</td>\n",
       "      <td>0.7500</td>\n",
       "      <td>P2</td>\n",
       "      <td>NuSVC</td>\n",
       "    </tr>\n",
       "    <tr>\n",
       "      <th>5</th>\n",
       "      <td>0.7500</td>\n",
       "      <td>0.7750</td>\n",
       "      <td>P3</td>\n",
       "      <td>NuSVC</td>\n",
       "    </tr>\n",
       "    <tr>\n",
       "      <th>6</th>\n",
       "      <td>0.8625</td>\n",
       "      <td>0.9500</td>\n",
       "      <td>P1</td>\n",
       "      <td>Random Forest</td>\n",
       "    </tr>\n",
       "    <tr>\n",
       "      <th>7</th>\n",
       "      <td>0.8500</td>\n",
       "      <td>0.8125</td>\n",
       "      <td>P2</td>\n",
       "      <td>Random Forest</td>\n",
       "    </tr>\n",
       "    <tr>\n",
       "      <th>8</th>\n",
       "      <td>0.8875</td>\n",
       "      <td>0.8500</td>\n",
       "      <td>P3</td>\n",
       "      <td>Random Forest</td>\n",
       "    </tr>\n",
       "  </tbody>\n",
       "</table>\n",
       "</div>"
      ],
      "text/plain": [
       "      pre    post subject            clf\n",
       "0  0.8375  0.9375      P1  Decision Tree\n",
       "1  0.8500  0.7875      P2  Decision Tree\n",
       "2  0.8750  0.8875      P3  Decision Tree\n",
       "3  0.8125  0.9875      P1          NuSVC\n",
       "4  0.7625  0.7500      P2          NuSVC\n",
       "5  0.7500  0.7750      P3          NuSVC\n",
       "6  0.8625  0.9500      P1  Random Forest\n",
       "7  0.8500  0.8125      P2  Random Forest\n",
       "8  0.8875  0.8500      P3  Random Forest"
      ]
     },
     "execution_count": 113,
     "metadata": {},
     "output_type": "execute_result"
    }
   ],
   "source": [
    "result=pd.DataFrame()\n",
    "pre=decision_tree_results['pre'].to_list()+NuSVC_results['pre'].to_list()+random_forest_results['pre'].to_list()\n",
    "post_r=decision_tree_results['post'].to_list()+NuSVC_results['post'].to_list()+random_forest_results['post'].to_list()\n",
    "result['pre']=pre\n",
    "result['post']=post_r\n",
    "result['subject']=['P1','P2','P3']*3\n",
    "result['clf']=['Decision Tree']*3 + ['NuSVC']*3 +['Random Forest']*3\n",
    "result"
   ]
  },
  {
   "cell_type": "code",
   "execution_count": 110,
   "metadata": {},
   "outputs": [],
   "source": [
    "files=open('optuna.sav','wb')\n",
    "pickle.dump(result,files)\n",
    "files.close()"
   ]
  },
  {
   "cell_type": "code",
   "execution_count": 114,
   "metadata": {},
   "outputs": [
    {
     "data": {
      "text/html": [
       "<div>\n",
       "<style scoped>\n",
       "    .dataframe tbody tr th:only-of-type {\n",
       "        vertical-align: middle;\n",
       "    }\n",
       "\n",
       "    .dataframe tbody tr th {\n",
       "        vertical-align: top;\n",
       "    }\n",
       "\n",
       "    .dataframe thead th {\n",
       "        text-align: right;\n",
       "    }\n",
       "</style>\n",
       "<table border=\"1\" class=\"dataframe\">\n",
       "  <thead>\n",
       "    <tr style=\"text-align: right;\">\n",
       "      <th></th>\n",
       "      <th>pre</th>\n",
       "      <th>post</th>\n",
       "      <th>subject</th>\n",
       "      <th>clf</th>\n",
       "    </tr>\n",
       "  </thead>\n",
       "  <tbody>\n",
       "    <tr>\n",
       "      <th>0</th>\n",
       "      <td>0.8375</td>\n",
       "      <td>0.9375</td>\n",
       "      <td>P1</td>\n",
       "      <td>Decision Tree</td>\n",
       "    </tr>\n",
       "    <tr>\n",
       "      <th>3</th>\n",
       "      <td>0.8125</td>\n",
       "      <td>0.9875</td>\n",
       "      <td>P1</td>\n",
       "      <td>NuSVC</td>\n",
       "    </tr>\n",
       "    <tr>\n",
       "      <th>6</th>\n",
       "      <td>0.8625</td>\n",
       "      <td>0.9500</td>\n",
       "      <td>P1</td>\n",
       "      <td>Random Forest</td>\n",
       "    </tr>\n",
       "  </tbody>\n",
       "</table>\n",
       "</div>"
      ],
      "text/plain": [
       "      pre    post subject            clf\n",
       "0  0.8375  0.9375      P1  Decision Tree\n",
       "3  0.8125  0.9875      P1          NuSVC\n",
       "6  0.8625  0.9500      P1  Random Forest"
      ]
     },
     "execution_count": 114,
     "metadata": {},
     "output_type": "execute_result"
    }
   ],
   "source": [
    "result.loc[result['subject']=='P1'][:]['pre']"
   ]
  },
  {
   "cell_type": "code",
   "execution_count": 143,
   "metadata": {},
   "outputs": [
    {
     "data": {
      "text/plain": [
       "[<matplotlib.axis.XTick at 0x24aa4dd2730>,\n",
       " <matplotlib.axis.XTick at 0x24aa4da8b80>,\n",
       " <matplotlib.axis.XTick at 0x24aa4e24bb0>,\n",
       " <matplotlib.axis.XTick at 0x24aa4e2afd0>,\n",
       " <matplotlib.axis.XTick at 0x24aa4e327f0>,\n",
       " <matplotlib.axis.XTick at 0x24aa4e32fd0>,\n",
       " <matplotlib.axis.XTick at 0x24aa4e32160>,\n",
       " <matplotlib.axis.XTick at 0x24aa4e2ad00>,\n",
       " <matplotlib.axis.XTick at 0x24aa4e389a0>,\n",
       " <matplotlib.axis.XTick at 0x24aa4e15d30>,\n",
       " <matplotlib.axis.XTick at 0x24aa4e439a0>]"
      ]
     },
     "execution_count": 143,
     "metadata": {},
     "output_type": "execute_result"
    },
    {
     "data": {
      "image/png": "[encoded data removed]",
      "text/plain": [
       "<Figure size 2000x1000 with 2 Axes>"
      ]
     },
     "metadata": {},
     "output_type": "display_data"
    }
   ],
   "source": [
    "fig = plt.figure(figsize=(20, 10))\n",
    "\n",
    "ax1 = fig.add_subplot(121, projection='3d')\n",
    "ax2 = fig.add_subplot(122, projection='3d')\n",
    "\n",
    "x = [0,0,0]  # x coordinates of each bar\n",
    "y = [0,1,2]  # y coordinates of each bar\n",
    "z = [0,0,0]  # z coordinates of each bar\n",
    "dx = [0.5, 0.5, 0.5]  # Width of each bar\n",
    "dy = [0.5, 0.5, 0.5]  # Depth of each bar\n",
    "dz=result.loc[result['subject']=='P1'][:]['pre'].to_list()\n",
    "ax1.bar3d(x,y,z,dx,dy,dz)\n",
    "\n",
    "x = [1,1,1]  # x coordinates of each bar\n",
    "y = [0,1,2]  # y coordinates of each bar\n",
    "z = [0,0,0]  # z coordinates of each bar\n",
    "dx = [0.5, 0.5, 0.5]  # Width of each bar\n",
    "dy = [0.5, 0.5, 0.5]  # Depth of each bar\n",
    "dz=result.loc[result['subject']=='P2'][:]['pre'].to_list()\n",
    "ax1.bar3d(x,y,z,dx,dy,dz)\n",
    "\n",
    "x = [2,2,2]  # x coordinates of each bar\n",
    "y = [0,1,2]  # y coordinates of each bar\n",
    "z = [0,0,0]  # z coordinates of each bar\n",
    "dx = [0.5, 0.5, 0.5]  # Width of each bar\n",
    "dy = [0.5, 0.5, 0.5]  # Depth of each bar\n",
    "dz=result.loc[result['subject']=='P1'][:]['pre'].to_list()\n",
    "ax1.bar3d(x,y,z,dx,dy,dz)\n",
    "\n",
    "ax1.set_xticks([0.5,1.5,2.5],['P1','P2','P3'])\n",
    "ax1.set_yticks([0.5,1.5,2.5],['DecisionTree','NuSVC','RandomForest'])\n",
    "ax1.set_zticks(\n",
    "    [0.0,.1,.2,.3,.4,.5,.6,.7,.8,.9,1],\n",
    "    [0.0,.1,.2,.3,.4,'      0.5 pre',.6,.7,.8,.9,1.0]\n",
    ")\n",
    "\n",
    "\n",
    "x = [0,0,0]  # x coordinates of each bar\n",
    "y = [0,1,2]  # y coordinates of each bar\n",
    "z = [0,0,0]  # z coordinates of each bar\n",
    "dx = [0.5, 0.5, 0.5]  # Width of each bar\n",
    "dy = [0.5, 0.5, 0.5]  # Depth of each bar\n",
    "dz=result.loc[result['subject']=='P1'][:]['post'].to_list()\n",
    "ax2.bar3d(x,y,z,dx,dy,dz)\n",
    "\n",
    "x = [1,1,1]  # x coordinates of each bar\n",
    "y = [0,1,2]  # y coordinates of each bar\n",
    "z = [0,0,0]  # z coordinates of each bar\n",
    "dx = [0.5, 0.5, 0.5]  # Width of each bar\n",
    "dy = [0.5, 0.5, 0.5]  # Depth of each bar\n",
    "dz=result.loc[result['subject']=='P2'][:]['post'].to_list()\n",
    "ax2.bar3d(x,y,z,dx,dy,dz)\n",
    "\n",
    "x = [2,2,2]  # x coordinates of each bar\n",
    "y = [0,1,2]  # y coordinates of each bar\n",
    "z = [0,0,0]  # z coordinates of each bar\n",
    "dx = [0.5, 0.5, 0.5]  # Width of each bar\n",
    "dy = [0.5, 0.5, 0.5]  # Depth of each bar\n",
    "dz=result.loc[result['subject']=='P1'][:]['post'].to_list()\n",
    "ax2.bar3d(x,y,z,dx,dy,dz)\n",
    "\n",
    "ax2.set_xticks([0.5,1.5,2.5],['P1','P2','P3'])\n",
    "ax2.set_yticks([0.5,1.5,2.5],['DecisionTree','NuSVC','RandomForest'])\n",
    "ax2.set_zticks(\n",
    "    [0.0,.1,.2,.3,.4,.5,.6,.7,.8,.9,1],\n",
    "    [0.0,.1,.2,.3,.4,'      0.5 post',.6,.7,.8,.9,1.0]\n",
    ")\n"
   ]
  },
  {
   "cell_type": "markdown",
   "metadata": {},
   "source": []
  },
  {
   "cell_type": "code",
   "execution_count": null,
   "metadata": {},
   "outputs": [],
   "source": []
  },
  {
   "cell_type": "markdown",
   "metadata": {},
   "source": [
    "# Neural networks"
   ]
  },
  {
   "cell_type": "code",
   "execution_count": 9,
   "metadata": {},
   "outputs": [],
   "source": [
    "from sklearn.neural_network import MLPClassifier,BernoulliRBM"
   ]
  },
  {
   "cell_type": "markdown",
   "metadata": {},
   "source": [
    "#### stft"
   ]
  },
  {
   "cell_type": "code",
   "execution_count": 10,
   "metadata": {},
   "outputs": [],
   "source": [
    "import tensorflow as tf\n",
    "from keras import datasets, layers, models"
   ]
  },
  {
   "cell_type": "code",
   "execution_count": 189,
   "metadata": {},
   "outputs": [],
   "source": [
    "class CNN:\n",
    "    def __init__(self,h,w,ch):\n",
    "        self.model=models.Sequential()\n",
    "        self.model.add(layers.Conv2D(16, (2,2), activation='relu', input_shape=(h,w,ch)))\n",
    "        self.model.add(layers.MaxPooling2D((2,2)))\n",
    "        self.model.add(layers.Conv2D(16, (2,2), activation='relu'))\n",
    "        self.model.add(layers.MaxPooling2D((2, 2)))\n",
    "        self.model.add(layers.Conv2D(64, (2, 2), activation='relu'))\n",
    "        self.model.add(layers.MaxPooling2D((2, 2)))\n",
    "        self.model.add(layers.Flatten())\n",
    "        self.model.add(layers.Dense(64, activation='relu'))\n",
    "        self.model.add(layers.Dense(10))\n",
    "        self.model.add(layers.Dense(2))\n",
    "        self.model.add(layers.Dense(1))\n",
    "\n",
    "    def summary(self):\n",
    "        return self.model.summary()\n",
    "\n",
    "    def compile(self,optimizer,loss,metrics):\n",
    "        self.model.compile(optimizer,loss,metrics=[metrics])\n",
    "\n",
    "    def history(self,Xtrain,ytrain,Xtest,ytest,n_epochs):\n",
    "        return self.model.fit(Xtrain,ytrain,epochs=n_epochs,validation_data=(Xtest,ytest))"
   ]
  },
  {
   "cell_type": "code",
   "execution_count": 169,
   "metadata": {},
   "outputs": [],
   "source": [
    "X_train=dataset['P1']['pre']['train']['X']\n",
    "y_train=dataset['P1']['pre']['train']['y']\n",
    "X_test=dataset['P1']['pre']['test']['X']\n",
    "y_test=dataset['P1']['pre']['test']['y']"
   ]
  },
  {
   "cell_type": "code",
   "execution_count": 170,
   "metadata": {},
   "outputs": [],
   "source": [
    "X_train=stft(8).transform(X_train)\n",
    "X_test=stft(8).transform(X_test)"
   ]
  },
  {
   "cell_type": "code",
   "execution_count": 171,
   "metadata": {},
   "outputs": [
    {
     "data": {
      "text/plain": [
       "(80, 512, 16, 5)"
      ]
     },
     "execution_count": 171,
     "metadata": {},
     "output_type": "execute_result"
    }
   ],
   "source": [
    "X_test.shape"
   ]
  },
  {
   "cell_type": "code",
   "execution_count": 192,
   "metadata": {},
   "outputs": [],
   "source": [
    "stft_cnn=CNN(512,16,5)"
   ]
  },
  {
   "cell_type": "code",
   "execution_count": 193,
   "metadata": {},
   "outputs": [
    {
     "name": "stdout",
     "output_type": "stream",
     "text": [
      "Model: \"sequential_46\"\n",
      "_________________________________________________________________\n",
      " Layer (type)                Output Shape              Param #   \n",
      "=================================================================\n",
      " conv2d_75 (Conv2D)          (None, 511, 15, 16)       336       \n",
      "                                                                 \n",
      " max_pooling2d_66 (MaxPoolin  (None, 255, 7, 16)       0         \n",
      " g2D)                                                            \n",
      "                                                                 \n",
      " conv2d_76 (Conv2D)          (None, 254, 6, 16)        1040      \n",
      "                                                                 \n",
      " max_pooling2d_67 (MaxPoolin  (None, 127, 3, 16)       0         \n",
      " g2D)                                                            \n",
      "                                                                 \n",
      " conv2d_77 (Conv2D)          (None, 126, 2, 64)        4160      \n",
      "                                                                 \n",
      " max_pooling2d_68 (MaxPoolin  (None, 63, 1, 64)        0         \n",
      " g2D)                                                            \n",
      "                                                                 \n",
      " flatten_21 (Flatten)        (None, 4032)              0         \n",
      "                                                                 \n",
      " dense_24 (Dense)            (None, 64)                258112    \n",
      "                                                                 \n",
      " dense_25 (Dense)            (None, 10)                650       \n",
      "                                                                 \n",
      " dense_26 (Dense)            (None, 2)                 22        \n",
      "                                                                 \n",
      " dense_27 (Dense)            (None, 1)                 3         \n",
      "                                                                 \n",
      "=================================================================\n",
      "Total params: 264,323\n",
      "Trainable params: 264,323\n",
      "Non-trainable params: 0\n",
      "_________________________________________________________________\n"
     ]
    }
   ],
   "source": [
    "stft_cnn.summary()"
   ]
  },
  {
   "cell_type": "code",
   "execution_count": 194,
   "metadata": {},
   "outputs": [
    {
     "name": "stdout",
     "output_type": "stream",
     "text": [
      "Epoch 1/10\n",
      "3/3 [==============================] - 3s 641ms/step - loss: 7.9462 - accuracy: 0.4750 - val_loss: 7.7125 - val_accuracy: 0.5000\n",
      "Epoch 2/10\n",
      "3/3 [==============================] - 2s 676ms/step - loss: 7.7125 - accuracy: 0.5000 - val_loss: 7.7125 - val_accuracy: 0.5000\n",
      "Epoch 3/10\n",
      "3/3 [==============================] - 1s 540ms/step - loss: 7.7125 - accuracy: 0.5000 - val_loss: 7.7125 - val_accuracy: 0.5000\n",
      "Epoch 4/10\n",
      "3/3 [==============================] - 1s 397ms/step - loss: 7.7125 - accuracy: 0.5000 - val_loss: 7.7125 - val_accuracy: 0.5000\n",
      "Epoch 5/10\n",
      "3/3 [==============================] - 1s 360ms/step - loss: 7.7125 - accuracy: 0.5000 - val_loss: 7.7125 - val_accuracy: 0.5000\n",
      "Epoch 6/10\n",
      "3/3 [==============================] - 1s 367ms/step - loss: 7.7125 - accuracy: 0.5000 - val_loss: 7.7125 - val_accuracy: 0.5000\n",
      "Epoch 7/10\n",
      "3/3 [==============================] - 1s 556ms/step - loss: 7.7125 - accuracy: 0.5000 - val_loss: 7.7125 - val_accuracy: 0.5000\n",
      "Epoch 8/10\n",
      "3/3 [==============================] - 1s 525ms/step - loss: 7.7125 - accuracy: 0.5000 - val_loss: 7.7125 - val_accuracy: 0.5000\n",
      "Epoch 9/10\n",
      "3/3 [==============================] - 1s 355ms/step - loss: 7.7125 - accuracy: 0.5000 - val_loss: 7.7125 - val_accuracy: 0.5000\n",
      "Epoch 10/10\n",
      "3/3 [==============================] - 1s 353ms/step - loss: 7.7125 - accuracy: 0.5000 - val_loss: 7.7125 - val_accuracy: 0.5000\n"
     ]
    }
   ],
   "source": [
    "stft_cnn.compile('adam',tf.keras.losses.BinaryCrossentropy(),'accuracy')\n",
    "history=stft_cnn.history(X_train,y_train,X_test,y_test,10)"
   ]
  },
  {
   "cell_type": "code",
   "execution_count": 195,
   "metadata": {},
   "outputs": [
    {
     "data": {
      "text/plain": [
       "<matplotlib.legend.Legend at 0x2b90b2cef10>"
      ]
     },
     "execution_count": 195,
     "metadata": {},
     "output_type": "execute_result"
    },
    {
     "data": {
      "image/png": "[encoded data removed]",
      "text/plain": [
       "<Figure size 640x480 with 1 Axes>"
      ]
     },
     "metadata": {},
     "output_type": "display_data"
    }
   ],
   "source": [
    "plt.plot(history.history['accuracy'], label='accuracy')\n",
    "plt.plot(history.history['val_accuracy'], label = 'val_accuracy')\n",
    "plt.xlabel('Epoch')\n",
    "plt.ylabel('Accuracy')\n",
    "plt.ylim([0.5, 1])\n",
    "plt.legend(loc='lower right')"
   ]
  },
  {
   "cell_type": "markdown",
   "metadata": {},
   "source": [
    "#### ICA + CNN"
   ]
  },
  {
   "cell_type": "code",
   "execution_count": 113,
   "metadata": {},
   "outputs": [],
   "source": [
    "_ica_pipeline=pipeline([\n",
    "    filter(0,30,256),\n",
    "    ica(n_comp=4),\n",
    "    # flatten()\n",
    "])\n",
    "\n",
    "# _ica_models=train_features_models(_ica_pipeline)\n",
    "# _ica_features=get_test_features(_ica_pipeline)"
   ]
  },
  {
   "cell_type": "markdown",
   "metadata": {},
   "source": [
    "#### params"
   ]
  },
  {
   "cell_type": "code",
   "execution_count": 16,
   "metadata": {},
   "outputs": [],
   "source": [
    "MLP_params={\n",
    "    'hidden_layer_sizes':[list(range(dt*fs,1,-1)),list(range(dt*fs,1,-2))],\n",
    "    'activation':['identity','relu','tanh','logistic'],\n",
    "    'solver':['lbfgs','sgd','adam'],\n",
    "    'learning_rate':['constant','invscaling','adaptive']\n",
    "}"
   ]
  },
  {
   "cell_type": "markdown",
   "metadata": {},
   "source": [
    "#### MLP"
   ]
  },
  {
   "cell_type": "code",
   "execution_count": 19,
   "metadata": {},
   "outputs": [],
   "source": [
    "mlp_results=pd.DataFrame(columns=['pre','post'],index=['P1','P2','P3'])\n",
    "mlp=pipeline([\n",
    "    # filter(0,30,256),\n",
    "    flatten(),\n",
    "    classifier(\n",
    "        MLPClassifier,\n",
    "        MLP_params\n",
    "    )\n",
    "])\n",
    "results(mlp_results,mlp)"
   ]
  },
  {
   "cell_type": "code",
   "execution_count": 643,
   "metadata": {},
   "outputs": [
    {
     "data": {
      "text/html": [
       "<div>\n",
       "<style scoped>\n",
       "    .dataframe tbody tr th:only-of-type {\n",
       "        vertical-align: middle;\n",
       "    }\n",
       "\n",
       "    .dataframe tbody tr th {\n",
       "        vertical-align: top;\n",
       "    }\n",
       "\n",
       "    .dataframe thead th {\n",
       "        text-align: right;\n",
       "    }\n",
       "</style>\n",
       "<table border=\"1\" class=\"dataframe\">\n",
       "  <thead>\n",
       "    <tr style=\"text-align: right;\">\n",
       "      <th></th>\n",
       "      <th>pre</th>\n",
       "      <th>post</th>\n",
       "    </tr>\n",
       "  </thead>\n",
       "  <tbody>\n",
       "    <tr>\n",
       "      <th>P1</th>\n",
       "      <td>0.4625</td>\n",
       "      <td>0.8125</td>\n",
       "    </tr>\n",
       "    <tr>\n",
       "      <th>P2</th>\n",
       "      <td>0.4875</td>\n",
       "      <td>0.7</td>\n",
       "    </tr>\n",
       "    <tr>\n",
       "      <th>P3</th>\n",
       "      <td>0.4875</td>\n",
       "      <td>0.5875</td>\n",
       "    </tr>\n",
       "  </tbody>\n",
       "</table>\n",
       "</div>"
      ],
      "text/plain": [
       "       pre    post\n",
       "P1  0.4625  0.8125\n",
       "P2  0.4875     0.7\n",
       "P3  0.4875  0.5875"
      ]
     },
     "execution_count": 643,
     "metadata": {},
     "output_type": "execute_result"
    }
   ],
   "source": [
    "mlp_results"
   ]
  },
  {
   "cell_type": "markdown",
   "metadata": {},
   "source": [
    "#### RBM"
   ]
  },
  {
   "cell_type": "code",
   "execution_count": null,
   "metadata": {},
   "outputs": [],
   "source": []
  },
  {
   "cell_type": "markdown",
   "metadata": {},
   "source": [
    "#### next"
   ]
  },
  {
   "cell_type": "code",
   "execution_count": null,
   "metadata": {},
   "outputs": [],
   "source": []
  }
 ],
 "metadata": {
  "kernelspec": {
   "display_name": "Python 3.9.13 ('base')",
   "language": "python",
   "name": "python3"
  },
  "language_info": {
   "codemirror_mode": {
    "name": "ipython",
    "version": 3
   },
   "file_extension": ".py",
   "mimetype": "text/x-python",
   "name": "python",
   "nbconvert_exporter": "python",
   "pygments_lexer": "ipython3",
   "version": "3.9.13"
  },
  "orig_nbformat": 4,
  "vscode": {
   "interpreter": {
    "hash": "af8259ad5c1c9c7a69bd6ea085234cf8fd3a6a37a71ca551828b314c4d89b0ad"
   }
  }
 },
 "nbformat": 4,
 "nbformat_minor": 2
}
